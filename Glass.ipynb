{
  "nbformat": 4,
  "nbformat_minor": 0,
  "metadata": {
    "colab": {
      "name": "Glass.ipynb",
      "provenance": [],
      "collapsed_sections": [],
      "authorship_tag": "ABX9TyN7HZGFpIv/1ADTcYr507qo",
      "include_colab_link": true
    },
    "kernelspec": {
      "name": "python3",
      "display_name": "Python 3"
    },
    "language_info": {
      "name": "python"
    },
    "widgets": {
      "application/vnd.jupyter.widget-state+json": {
        "f2a732dc7f164bba8c4a7c56f31dd785": {
          "model_module": "@jupyter-widgets/controls",
          "model_name": "IntSliderModel",
          "state": {
            "_view_name": "IntSliderView",
            "style": "IPY_MODEL_52b0b184c8ca45d8849bb817278c4dc2",
            "_dom_classes": [],
            "description": "",
            "step": 1,
            "_model_name": "IntSliderModel",
            "orientation": "horizontal",
            "max": 100,
            "_view_module": "@jupyter-widgets/controls",
            "_model_module_version": "1.5.0",
            "value": 0,
            "_view_count": null,
            "disabled": false,
            "_view_module_version": "1.5.0",
            "min": 0,
            "continuous_update": true,
            "readout_format": "d",
            "description_tooltip": null,
            "readout": true,
            "_model_module": "@jupyter-widgets/controls",
            "layout": "IPY_MODEL_3ca41377dcd34f8694b56557ef162989"
          }
        },
        "52b0b184c8ca45d8849bb817278c4dc2": {
          "model_module": "@jupyter-widgets/controls",
          "model_name": "SliderStyleModel",
          "state": {
            "_view_name": "StyleView",
            "handle_color": null,
            "_model_name": "SliderStyleModel",
            "description_width": "",
            "_view_module": "@jupyter-widgets/base",
            "_model_module_version": "1.5.0",
            "_view_count": null,
            "_view_module_version": "1.2.0",
            "_model_module": "@jupyter-widgets/controls"
          }
        },
        "3ca41377dcd34f8694b56557ef162989": {
          "model_module": "@jupyter-widgets/base",
          "model_name": "LayoutModel",
          "state": {
            "_view_name": "LayoutView",
            "grid_template_rows": null,
            "right": null,
            "justify_content": null,
            "_view_module": "@jupyter-widgets/base",
            "overflow": null,
            "_model_module_version": "1.2.0",
            "_view_count": null,
            "flex_flow": null,
            "width": null,
            "min_width": null,
            "border": null,
            "align_items": null,
            "bottom": null,
            "_model_module": "@jupyter-widgets/base",
            "top": null,
            "grid_column": null,
            "overflow_y": null,
            "overflow_x": null,
            "grid_auto_flow": null,
            "grid_area": null,
            "grid_template_columns": null,
            "flex": null,
            "_model_name": "LayoutModel",
            "justify_items": null,
            "grid_row": null,
            "max_height": null,
            "align_content": null,
            "visibility": null,
            "align_self": null,
            "height": null,
            "min_height": null,
            "padding": null,
            "grid_auto_rows": null,
            "grid_gap": null,
            "max_width": null,
            "order": null,
            "_view_module_version": "1.2.0",
            "grid_template_areas": null,
            "object_position": null,
            "object_fit": null,
            "grid_auto_columns": null,
            "margin": null,
            "display": null,
            "left": null
          }
        },
        "52ef2b2f1b7f463f9911450ee91e0582": {
          "model_module": "@jupyter-widgets/controls",
          "model_name": "TextModel",
          "state": {
            "_view_name": "TextView",
            "style": "IPY_MODEL_47592bf73e92407db3a327cebe39e391",
            "_dom_classes": [],
            "description": "",
            "_model_name": "TextModel",
            "placeholder": "​",
            "_view_module": "@jupyter-widgets/controls",
            "_model_module_version": "1.5.0",
            "value": "Polina",
            "_view_count": null,
            "disabled": false,
            "_view_module_version": "1.5.0",
            "continuous_update": true,
            "description_tooltip": null,
            "_model_module": "@jupyter-widgets/controls",
            "layout": "IPY_MODEL_8ebc99c33dcd49b5a7865795f0573002"
          }
        },
        "47592bf73e92407db3a327cebe39e391": {
          "model_module": "@jupyter-widgets/controls",
          "model_name": "DescriptionStyleModel",
          "state": {
            "_view_name": "StyleView",
            "_model_name": "DescriptionStyleModel",
            "description_width": "",
            "_view_module": "@jupyter-widgets/base",
            "_model_module_version": "1.5.0",
            "_view_count": null,
            "_view_module_version": "1.2.0",
            "_model_module": "@jupyter-widgets/controls"
          }
        },
        "8ebc99c33dcd49b5a7865795f0573002": {
          "model_module": "@jupyter-widgets/base",
          "model_name": "LayoutModel",
          "state": {
            "_view_name": "LayoutView",
            "grid_template_rows": null,
            "right": null,
            "justify_content": null,
            "_view_module": "@jupyter-widgets/base",
            "overflow": null,
            "_model_module_version": "1.2.0",
            "_view_count": null,
            "flex_flow": null,
            "width": null,
            "min_width": null,
            "border": null,
            "align_items": null,
            "bottom": null,
            "_model_module": "@jupyter-widgets/base",
            "top": null,
            "grid_column": null,
            "overflow_y": null,
            "overflow_x": null,
            "grid_auto_flow": null,
            "grid_area": null,
            "grid_template_columns": null,
            "flex": null,
            "_model_name": "LayoutModel",
            "justify_items": null,
            "grid_row": null,
            "max_height": null,
            "align_content": null,
            "visibility": null,
            "align_self": null,
            "height": null,
            "min_height": null,
            "padding": null,
            "grid_auto_rows": null,
            "grid_gap": null,
            "max_width": null,
            "order": null,
            "_view_module_version": "1.2.0",
            "grid_template_areas": null,
            "object_position": null,
            "object_fit": null,
            "grid_auto_columns": null,
            "margin": null,
            "display": null,
            "left": null
          }
        },
        "fef2898c58a94a0a934cd560f354c1c4": {
          "model_module": "@jupyter-widgets/controls",
          "model_name": "IntProgressModel",
          "state": {
            "_view_name": "ProgressView",
            "style": "IPY_MODEL_fada439f1591405980910a5ea9c627cc",
            "_dom_classes": [],
            "description": "Loading: ",
            "_model_name": "IntProgressModel",
            "bar_style": "",
            "max": 100,
            "_view_module": "@jupyter-widgets/controls",
            "_model_module_version": "1.5.0",
            "value": 100,
            "_view_count": null,
            "_view_module_version": "1.5.0",
            "orientation": "horizontal",
            "min": 1,
            "description_tooltip": null,
            "_model_module": "@jupyter-widgets/controls",
            "layout": "IPY_MODEL_b12fcb50f0184d0bb5df92466f0fe9dd"
          }
        },
        "fada439f1591405980910a5ea9c627cc": {
          "model_module": "@jupyter-widgets/controls",
          "model_name": "ProgressStyleModel",
          "state": {
            "_view_name": "StyleView",
            "_model_name": "ProgressStyleModel",
            "description_width": "",
            "_view_module": "@jupyter-widgets/base",
            "_model_module_version": "1.5.0",
            "_view_count": null,
            "_view_module_version": "1.2.0",
            "bar_color": null,
            "_model_module": "@jupyter-widgets/controls"
          }
        },
        "b12fcb50f0184d0bb5df92466f0fe9dd": {
          "model_module": "@jupyter-widgets/base",
          "model_name": "LayoutModel",
          "state": {
            "_view_name": "LayoutView",
            "grid_template_rows": null,
            "right": null,
            "justify_content": null,
            "_view_module": "@jupyter-widgets/base",
            "overflow": null,
            "_model_module_version": "1.2.0",
            "_view_count": null,
            "flex_flow": null,
            "width": null,
            "min_width": null,
            "border": null,
            "align_items": null,
            "bottom": null,
            "_model_module": "@jupyter-widgets/base",
            "top": null,
            "grid_column": null,
            "overflow_y": null,
            "overflow_x": null,
            "grid_auto_flow": null,
            "grid_area": null,
            "grid_template_columns": null,
            "flex": null,
            "_model_name": "LayoutModel",
            "justify_items": null,
            "grid_row": null,
            "max_height": null,
            "align_content": null,
            "visibility": null,
            "align_self": null,
            "height": null,
            "min_height": null,
            "padding": null,
            "grid_auto_rows": null,
            "grid_gap": null,
            "max_width": null,
            "order": null,
            "_view_module_version": "1.2.0",
            "grid_template_areas": null,
            "object_position": null,
            "object_fit": null,
            "grid_auto_columns": null,
            "margin": null,
            "display": null,
            "left": null
          }
        },
        "f7da35445f3b4367b03d3ebf2dc3660f": {
          "model_module": "@jupyter-widgets/controls",
          "model_name": "ButtonModel",
          "state": {
            "_view_name": "ButtonView",
            "style": "IPY_MODEL_6b39096899c64c81909b54f03748bf47",
            "_dom_classes": [],
            "description": "Кнопка!",
            "_model_name": "ButtonModel",
            "button_style": "",
            "_view_module": "@jupyter-widgets/controls",
            "_model_module_version": "1.5.0",
            "tooltip": "",
            "_view_count": null,
            "disabled": false,
            "_view_module_version": "1.5.0",
            "layout": "IPY_MODEL_267f608e25094d50b4baa910bbfe4f55",
            "_model_module": "@jupyter-widgets/controls",
            "icon": ""
          }
        },
        "6b39096899c64c81909b54f03748bf47": {
          "model_module": "@jupyter-widgets/controls",
          "model_name": "ButtonStyleModel",
          "state": {
            "_view_name": "StyleView",
            "_model_name": "ButtonStyleModel",
            "_view_module": "@jupyter-widgets/base",
            "_model_module_version": "1.5.0",
            "_view_count": null,
            "button_color": null,
            "font_weight": "",
            "_view_module_version": "1.2.0",
            "_model_module": "@jupyter-widgets/controls"
          }
        },
        "267f608e25094d50b4baa910bbfe4f55": {
          "model_module": "@jupyter-widgets/base",
          "model_name": "LayoutModel",
          "state": {
            "_view_name": "LayoutView",
            "grid_template_rows": null,
            "right": null,
            "justify_content": null,
            "_view_module": "@jupyter-widgets/base",
            "overflow": null,
            "_model_module_version": "1.2.0",
            "_view_count": null,
            "flex_flow": null,
            "width": null,
            "min_width": null,
            "border": null,
            "align_items": null,
            "bottom": null,
            "_model_module": "@jupyter-widgets/base",
            "top": null,
            "grid_column": null,
            "overflow_y": null,
            "overflow_x": null,
            "grid_auto_flow": null,
            "grid_area": null,
            "grid_template_columns": null,
            "flex": null,
            "_model_name": "LayoutModel",
            "justify_items": null,
            "grid_row": null,
            "max_height": null,
            "align_content": null,
            "visibility": null,
            "align_self": null,
            "height": null,
            "min_height": null,
            "padding": null,
            "grid_auto_rows": null,
            "grid_gap": null,
            "max_width": null,
            "order": null,
            "_view_module_version": "1.2.0",
            "grid_template_areas": null,
            "object_position": null,
            "object_fit": null,
            "grid_auto_columns": null,
            "margin": null,
            "display": null,
            "left": null
          }
        },
        "69ee732e702e4f529f1c44de5b42cbe5": {
          "model_module": "@jupyter-widgets/output",
          "model_name": "OutputModel",
          "state": {
            "_view_name": "OutputView",
            "msg_id": "",
            "_dom_classes": [],
            "_model_name": "OutputModel",
            "outputs": [],
            "_view_module": "@jupyter-widgets/output",
            "_model_module_version": "1.0.0",
            "_view_count": null,
            "_view_module_version": "1.0.0",
            "layout": "IPY_MODEL_7d3346ff2bf74485bc9c0a70c4a5c4e3",
            "_model_module": "@jupyter-widgets/output"
          }
        },
        "7d3346ff2bf74485bc9c0a70c4a5c4e3": {
          "model_module": "@jupyter-widgets/base",
          "model_name": "LayoutModel",
          "state": {
            "_view_name": "LayoutView",
            "grid_template_rows": null,
            "right": null,
            "justify_content": null,
            "_view_module": "@jupyter-widgets/base",
            "overflow": null,
            "_model_module_version": "1.2.0",
            "_view_count": null,
            "flex_flow": null,
            "width": null,
            "min_width": null,
            "border": null,
            "align_items": null,
            "bottom": null,
            "_model_module": "@jupyter-widgets/base",
            "top": null,
            "grid_column": null,
            "overflow_y": null,
            "overflow_x": null,
            "grid_auto_flow": null,
            "grid_area": null,
            "grid_template_columns": null,
            "flex": null,
            "_model_name": "LayoutModel",
            "justify_items": null,
            "grid_row": null,
            "max_height": null,
            "align_content": null,
            "visibility": null,
            "align_self": null,
            "height": null,
            "min_height": null,
            "padding": null,
            "grid_auto_rows": null,
            "grid_gap": null,
            "max_width": null,
            "order": null,
            "_view_module_version": "1.2.0",
            "grid_template_areas": null,
            "object_position": null,
            "object_fit": null,
            "grid_auto_columns": null,
            "margin": null,
            "display": null,
            "left": null
          }
        },
        "368dce42e7384913b175481f57bdc56a": {
          "model_module": "@jupyter-widgets/controls",
          "model_name": "VBoxModel",
          "state": {
            "_view_name": "VBoxView",
            "_dom_classes": [
              "widget-interact"
            ],
            "_model_name": "VBoxModel",
            "_view_module": "@jupyter-widgets/controls",
            "_model_module_version": "1.5.0",
            "_view_count": null,
            "_view_module_version": "1.5.0",
            "box_style": "",
            "layout": "IPY_MODEL_5089d40f727a4f5280c501ec63bd12d8",
            "_model_module": "@jupyter-widgets/controls",
            "children": [
              "IPY_MODEL_0db3dc6d7af94d99bbccddd6629b8415",
              "IPY_MODEL_506ce5363f354d98a9dbb799f84b0687"
            ]
          }
        },
        "5089d40f727a4f5280c501ec63bd12d8": {
          "model_module": "@jupyter-widgets/base",
          "model_name": "LayoutModel",
          "state": {
            "_view_name": "LayoutView",
            "grid_template_rows": null,
            "right": null,
            "justify_content": null,
            "_view_module": "@jupyter-widgets/base",
            "overflow": null,
            "_model_module_version": "1.2.0",
            "_view_count": null,
            "flex_flow": null,
            "width": null,
            "min_width": null,
            "border": null,
            "align_items": null,
            "bottom": null,
            "_model_module": "@jupyter-widgets/base",
            "top": null,
            "grid_column": null,
            "overflow_y": null,
            "overflow_x": null,
            "grid_auto_flow": null,
            "grid_area": null,
            "grid_template_columns": null,
            "flex": null,
            "_model_name": "LayoutModel",
            "justify_items": null,
            "grid_row": null,
            "max_height": null,
            "align_content": null,
            "visibility": null,
            "align_self": null,
            "height": null,
            "min_height": null,
            "padding": null,
            "grid_auto_rows": null,
            "grid_gap": null,
            "max_width": null,
            "order": null,
            "_view_module_version": "1.2.0",
            "grid_template_areas": null,
            "object_position": null,
            "object_fit": null,
            "grid_auto_columns": null,
            "margin": null,
            "display": null,
            "left": null
          }
        },
        "0db3dc6d7af94d99bbccddd6629b8415": {
          "model_module": "@jupyter-widgets/controls",
          "model_name": "DropdownModel",
          "state": {
            "_options_labels": [
              "Полина",
              "Вероника",
              "Александр"
            ],
            "_view_name": "DropdownView",
            "style": "IPY_MODEL_daec03aa21a041c582f7c7c6f836e882",
            "_dom_classes": [],
            "description": "name",
            "_model_name": "DropdownModel",
            "index": 0,
            "_view_module": "@jupyter-widgets/controls",
            "_model_module_version": "1.5.0",
            "_view_count": null,
            "disabled": false,
            "_view_module_version": "1.5.0",
            "description_tooltip": null,
            "_model_module": "@jupyter-widgets/controls",
            "layout": "IPY_MODEL_2c85ec13f8bd47c7b6fdd016bbb7e1f8"
          }
        },
        "506ce5363f354d98a9dbb799f84b0687": {
          "model_module": "@jupyter-widgets/output",
          "model_name": "OutputModel",
          "state": {
            "_view_name": "OutputView",
            "msg_id": "",
            "_dom_classes": [],
            "_model_name": "OutputModel",
            "outputs": [
              {
                "output_type": "stream",
                "metadata": {
                  "tags": []
                },
                "text": "My name is Полина\n",
                "stream": "stdout"
              }
            ],
            "_view_module": "@jupyter-widgets/output",
            "_model_module_version": "1.0.0",
            "_view_count": null,
            "_view_module_version": "1.0.0",
            "layout": "IPY_MODEL_e0989fd56bd64804a9c5a65ec1b3b377",
            "_model_module": "@jupyter-widgets/output"
          }
        },
        "daec03aa21a041c582f7c7c6f836e882": {
          "model_module": "@jupyter-widgets/controls",
          "model_name": "DescriptionStyleModel",
          "state": {
            "_view_name": "StyleView",
            "_model_name": "DescriptionStyleModel",
            "description_width": "",
            "_view_module": "@jupyter-widgets/base",
            "_model_module_version": "1.5.0",
            "_view_count": null,
            "_view_module_version": "1.2.0",
            "_model_module": "@jupyter-widgets/controls"
          }
        },
        "2c85ec13f8bd47c7b6fdd016bbb7e1f8": {
          "model_module": "@jupyter-widgets/base",
          "model_name": "LayoutModel",
          "state": {
            "_view_name": "LayoutView",
            "grid_template_rows": null,
            "right": null,
            "justify_content": null,
            "_view_module": "@jupyter-widgets/base",
            "overflow": null,
            "_model_module_version": "1.2.0",
            "_view_count": null,
            "flex_flow": null,
            "width": null,
            "min_width": null,
            "border": null,
            "align_items": null,
            "bottom": null,
            "_model_module": "@jupyter-widgets/base",
            "top": null,
            "grid_column": null,
            "overflow_y": null,
            "overflow_x": null,
            "grid_auto_flow": null,
            "grid_area": null,
            "grid_template_columns": null,
            "flex": null,
            "_model_name": "LayoutModel",
            "justify_items": null,
            "grid_row": null,
            "max_height": null,
            "align_content": null,
            "visibility": null,
            "align_self": null,
            "height": null,
            "min_height": null,
            "padding": null,
            "grid_auto_rows": null,
            "grid_gap": null,
            "max_width": null,
            "order": null,
            "_view_module_version": "1.2.0",
            "grid_template_areas": null,
            "object_position": null,
            "object_fit": null,
            "grid_auto_columns": null,
            "margin": null,
            "display": null,
            "left": null
          }
        },
        "e0989fd56bd64804a9c5a65ec1b3b377": {
          "model_module": "@jupyter-widgets/base",
          "model_name": "LayoutModel",
          "state": {
            "_view_name": "LayoutView",
            "grid_template_rows": null,
            "right": null,
            "justify_content": null,
            "_view_module": "@jupyter-widgets/base",
            "overflow": null,
            "_model_module_version": "1.2.0",
            "_view_count": null,
            "flex_flow": null,
            "width": null,
            "min_width": null,
            "border": null,
            "align_items": null,
            "bottom": null,
            "_model_module": "@jupyter-widgets/base",
            "top": null,
            "grid_column": null,
            "overflow_y": null,
            "overflow_x": null,
            "grid_auto_flow": null,
            "grid_area": null,
            "grid_template_columns": null,
            "flex": null,
            "_model_name": "LayoutModel",
            "justify_items": null,
            "grid_row": null,
            "max_height": null,
            "align_content": null,
            "visibility": null,
            "align_self": null,
            "height": null,
            "min_height": null,
            "padding": null,
            "grid_auto_rows": null,
            "grid_gap": null,
            "max_width": null,
            "order": null,
            "_view_module_version": "1.2.0",
            "grid_template_areas": null,
            "object_position": null,
            "object_fit": null,
            "grid_auto_columns": null,
            "margin": null,
            "display": null,
            "left": null
          }
        },
        "8b7f6fada3d549099afa29de245d8ac0": {
          "model_module": "@jupyter-widgets/controls",
          "model_name": "VBoxModel",
          "state": {
            "_view_name": "VBoxView",
            "_dom_classes": [
              "widget-interact"
            ],
            "_model_name": "VBoxModel",
            "_view_module": "@jupyter-widgets/controls",
            "_model_module_version": "1.5.0",
            "_view_count": null,
            "_view_module_version": "1.5.0",
            "box_style": "",
            "layout": "IPY_MODEL_8830d871aac744b48e675184a784b688",
            "_model_module": "@jupyter-widgets/controls",
            "children": [
              "IPY_MODEL_dae22d183c234fd896448bf51ff62d0e",
              "IPY_MODEL_ee02c6f55cf94e04923a5d76d2da3aa4",
              "IPY_MODEL_9195d01ecb674a1b88f3dd70b1d8b6f4",
              "IPY_MODEL_07f95a146d854bcf831011ba680fbecf"
            ]
          }
        },
        "8830d871aac744b48e675184a784b688": {
          "model_module": "@jupyter-widgets/base",
          "model_name": "LayoutModel",
          "state": {
            "_view_name": "LayoutView",
            "grid_template_rows": null,
            "right": null,
            "justify_content": null,
            "_view_module": "@jupyter-widgets/base",
            "overflow": null,
            "_model_module_version": "1.2.0",
            "_view_count": null,
            "flex_flow": null,
            "width": null,
            "min_width": null,
            "border": null,
            "align_items": null,
            "bottom": null,
            "_model_module": "@jupyter-widgets/base",
            "top": null,
            "grid_column": null,
            "overflow_y": null,
            "overflow_x": null,
            "grid_auto_flow": null,
            "grid_area": null,
            "grid_template_columns": null,
            "flex": null,
            "_model_name": "LayoutModel",
            "justify_items": null,
            "grid_row": null,
            "max_height": null,
            "align_content": null,
            "visibility": null,
            "align_self": null,
            "height": null,
            "min_height": null,
            "padding": null,
            "grid_auto_rows": null,
            "grid_gap": null,
            "max_width": null,
            "order": null,
            "_view_module_version": "1.2.0",
            "grid_template_areas": null,
            "object_position": null,
            "object_fit": null,
            "grid_auto_columns": null,
            "margin": null,
            "display": null,
            "left": null
          }
        },
        "dae22d183c234fd896448bf51ff62d0e": {
          "model_module": "@jupyter-widgets/controls",
          "model_name": "IntSliderModel",
          "state": {
            "_view_name": "IntSliderView",
            "style": "IPY_MODEL_65e9e795bb2b4ef3bbc264df30083504",
            "_dom_classes": [],
            "description": "w",
            "step": 1,
            "_model_name": "IntSliderModel",
            "orientation": "horizontal",
            "max": 10,
            "_view_module": "@jupyter-widgets/controls",
            "_model_module_version": "1.5.0",
            "value": 5,
            "_view_count": null,
            "disabled": false,
            "_view_module_version": "1.5.0",
            "min": 0,
            "continuous_update": true,
            "readout_format": "d",
            "description_tooltip": null,
            "readout": true,
            "_model_module": "@jupyter-widgets/controls",
            "layout": "IPY_MODEL_70f0b7e6256d42a5bdeb7cba3f24102c"
          }
        },
        "ee02c6f55cf94e04923a5d76d2da3aa4": {
          "model_module": "@jupyter-widgets/controls",
          "model_name": "FloatSliderModel",
          "state": {
            "_view_name": "FloatSliderView",
            "style": "IPY_MODEL_945b40a1cf4c4e0bb4daf69cd246ac77",
            "_dom_classes": [],
            "description": "amp",
            "step": 0.1,
            "_model_name": "FloatSliderModel",
            "orientation": "horizontal",
            "max": 4,
            "_view_module": "@jupyter-widgets/controls",
            "_model_module_version": "1.5.0",
            "value": 2,
            "_view_count": null,
            "disabled": false,
            "_view_module_version": "1.5.0",
            "min": 0,
            "continuous_update": true,
            "readout_format": ".2f",
            "description_tooltip": null,
            "readout": true,
            "_model_module": "@jupyter-widgets/controls",
            "layout": "IPY_MODEL_c7f0ffac063643999a4cb7c6fca09b43"
          }
        },
        "9195d01ecb674a1b88f3dd70b1d8b6f4": {
          "model_module": "@jupyter-widgets/controls",
          "model_name": "FloatSliderModel",
          "state": {
            "_view_name": "FloatSliderView",
            "style": "IPY_MODEL_338d12f4065d4bfb9c182844b7eeb614",
            "_dom_classes": [],
            "description": "phi",
            "step": 0.01,
            "_model_name": "FloatSliderModel",
            "orientation": "horizontal",
            "max": 6.293185307179586,
            "_view_module": "@jupyter-widgets/controls",
            "_model_module_version": "1.5.0",
            "value": 3.14,
            "_view_count": null,
            "disabled": false,
            "_view_module_version": "1.5.0",
            "min": 0,
            "continuous_update": true,
            "readout_format": ".2f",
            "description_tooltip": null,
            "readout": true,
            "_model_module": "@jupyter-widgets/controls",
            "layout": "IPY_MODEL_33cb8a33aee74100a4a1ba409ddbc9e5"
          }
        },
        "07f95a146d854bcf831011ba680fbecf": {
          "model_module": "@jupyter-widgets/output",
          "model_name": "OutputModel",
          "state": {
            "_view_name": "OutputView",
            "msg_id": "",
            "_dom_classes": [],
            "_model_name": "OutputModel",
            "outputs": [
              {
                "output_type": "stream",
                "metadata": {
                  "tags": []
                },
                "text": "5 2.0 3.14\n",
                "stream": "stdout"
              },
              {
                "output_type": "display_data",
                "metadata": {
                  "tags": [],
                  "needs_background": "light"
                },
                "image/png": "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\n",
                "text/plain": "<Figure size 432x288 with 1 Axes>"
              }
            ],
            "_view_module": "@jupyter-widgets/output",
            "_model_module_version": "1.0.0",
            "_view_count": null,
            "_view_module_version": "1.0.0",
            "layout": "IPY_MODEL_d5aae9b143ba48f5ad1b97d25798d7a6",
            "_model_module": "@jupyter-widgets/output"
          }
        },
        "65e9e795bb2b4ef3bbc264df30083504": {
          "model_module": "@jupyter-widgets/controls",
          "model_name": "SliderStyleModel",
          "state": {
            "_view_name": "StyleView",
            "handle_color": null,
            "_model_name": "SliderStyleModel",
            "description_width": "",
            "_view_module": "@jupyter-widgets/base",
            "_model_module_version": "1.5.0",
            "_view_count": null,
            "_view_module_version": "1.2.0",
            "_model_module": "@jupyter-widgets/controls"
          }
        },
        "70f0b7e6256d42a5bdeb7cba3f24102c": {
          "model_module": "@jupyter-widgets/base",
          "model_name": "LayoutModel",
          "state": {
            "_view_name": "LayoutView",
            "grid_template_rows": null,
            "right": null,
            "justify_content": null,
            "_view_module": "@jupyter-widgets/base",
            "overflow": null,
            "_model_module_version": "1.2.0",
            "_view_count": null,
            "flex_flow": null,
            "width": null,
            "min_width": null,
            "border": null,
            "align_items": null,
            "bottom": null,
            "_model_module": "@jupyter-widgets/base",
            "top": null,
            "grid_column": null,
            "overflow_y": null,
            "overflow_x": null,
            "grid_auto_flow": null,
            "grid_area": null,
            "grid_template_columns": null,
            "flex": null,
            "_model_name": "LayoutModel",
            "justify_items": null,
            "grid_row": null,
            "max_height": null,
            "align_content": null,
            "visibility": null,
            "align_self": null,
            "height": null,
            "min_height": null,
            "padding": null,
            "grid_auto_rows": null,
            "grid_gap": null,
            "max_width": null,
            "order": null,
            "_view_module_version": "1.2.0",
            "grid_template_areas": null,
            "object_position": null,
            "object_fit": null,
            "grid_auto_columns": null,
            "margin": null,
            "display": null,
            "left": null
          }
        },
        "945b40a1cf4c4e0bb4daf69cd246ac77": {
          "model_module": "@jupyter-widgets/controls",
          "model_name": "SliderStyleModel",
          "state": {
            "_view_name": "StyleView",
            "handle_color": null,
            "_model_name": "SliderStyleModel",
            "description_width": "",
            "_view_module": "@jupyter-widgets/base",
            "_model_module_version": "1.5.0",
            "_view_count": null,
            "_view_module_version": "1.2.0",
            "_model_module": "@jupyter-widgets/controls"
          }
        },
        "c7f0ffac063643999a4cb7c6fca09b43": {
          "model_module": "@jupyter-widgets/base",
          "model_name": "LayoutModel",
          "state": {
            "_view_name": "LayoutView",
            "grid_template_rows": null,
            "right": null,
            "justify_content": null,
            "_view_module": "@jupyter-widgets/base",
            "overflow": null,
            "_model_module_version": "1.2.0",
            "_view_count": null,
            "flex_flow": null,
            "width": null,
            "min_width": null,
            "border": null,
            "align_items": null,
            "bottom": null,
            "_model_module": "@jupyter-widgets/base",
            "top": null,
            "grid_column": null,
            "overflow_y": null,
            "overflow_x": null,
            "grid_auto_flow": null,
            "grid_area": null,
            "grid_template_columns": null,
            "flex": null,
            "_model_name": "LayoutModel",
            "justify_items": null,
            "grid_row": null,
            "max_height": null,
            "align_content": null,
            "visibility": null,
            "align_self": null,
            "height": null,
            "min_height": null,
            "padding": null,
            "grid_auto_rows": null,
            "grid_gap": null,
            "max_width": null,
            "order": null,
            "_view_module_version": "1.2.0",
            "grid_template_areas": null,
            "object_position": null,
            "object_fit": null,
            "grid_auto_columns": null,
            "margin": null,
            "display": null,
            "left": null
          }
        },
        "338d12f4065d4bfb9c182844b7eeb614": {
          "model_module": "@jupyter-widgets/controls",
          "model_name": "SliderStyleModel",
          "state": {
            "_view_name": "StyleView",
            "handle_color": null,
            "_model_name": "SliderStyleModel",
            "description_width": "",
            "_view_module": "@jupyter-widgets/base",
            "_model_module_version": "1.5.0",
            "_view_count": null,
            "_view_module_version": "1.2.0",
            "_model_module": "@jupyter-widgets/controls"
          }
        },
        "33cb8a33aee74100a4a1ba409ddbc9e5": {
          "model_module": "@jupyter-widgets/base",
          "model_name": "LayoutModel",
          "state": {
            "_view_name": "LayoutView",
            "grid_template_rows": null,
            "right": null,
            "justify_content": null,
            "_view_module": "@jupyter-widgets/base",
            "overflow": null,
            "_model_module_version": "1.2.0",
            "_view_count": null,
            "flex_flow": null,
            "width": null,
            "min_width": null,
            "border": null,
            "align_items": null,
            "bottom": null,
            "_model_module": "@jupyter-widgets/base",
            "top": null,
            "grid_column": null,
            "overflow_y": null,
            "overflow_x": null,
            "grid_auto_flow": null,
            "grid_area": null,
            "grid_template_columns": null,
            "flex": null,
            "_model_name": "LayoutModel",
            "justify_items": null,
            "grid_row": null,
            "max_height": null,
            "align_content": null,
            "visibility": null,
            "align_self": null,
            "height": null,
            "min_height": null,
            "padding": null,
            "grid_auto_rows": null,
            "grid_gap": null,
            "max_width": null,
            "order": null,
            "_view_module_version": "1.2.0",
            "grid_template_areas": null,
            "object_position": null,
            "object_fit": null,
            "grid_auto_columns": null,
            "margin": null,
            "display": null,
            "left": null
          }
        },
        "d5aae9b143ba48f5ad1b97d25798d7a6": {
          "model_module": "@jupyter-widgets/base",
          "model_name": "LayoutModel",
          "state": {
            "_view_name": "LayoutView",
            "grid_template_rows": null,
            "right": null,
            "justify_content": null,
            "_view_module": "@jupyter-widgets/base",
            "overflow": null,
            "_model_module_version": "1.2.0",
            "_view_count": null,
            "flex_flow": null,
            "width": null,
            "min_width": null,
            "border": null,
            "align_items": null,
            "bottom": null,
            "_model_module": "@jupyter-widgets/base",
            "top": null,
            "grid_column": null,
            "overflow_y": null,
            "overflow_x": null,
            "grid_auto_flow": null,
            "grid_area": null,
            "grid_template_columns": null,
            "flex": null,
            "_model_name": "LayoutModel",
            "justify_items": null,
            "grid_row": null,
            "max_height": null,
            "align_content": null,
            "visibility": null,
            "align_self": null,
            "height": null,
            "min_height": null,
            "padding": null,
            "grid_auto_rows": null,
            "grid_gap": null,
            "max_width": null,
            "order": null,
            "_view_module_version": "1.2.0",
            "grid_template_areas": null,
            "object_position": null,
            "object_fit": null,
            "grid_auto_columns": null,
            "margin": null,
            "display": null,
            "left": null
          }
        },
        "9b7612599c134726a63cf40b9b36470b": {
          "model_module": "@jupyter-widgets/controls",
          "model_name": "ButtonModel",
          "state": {
            "_view_name": "ButtonView",
            "style": "IPY_MODEL_f7216c3d4b1f44f4983c4fea929d021e",
            "_dom_classes": [],
            "description": "INFO",
            "_model_name": "ButtonModel",
            "button_style": "",
            "_view_module": "@jupyter-widgets/controls",
            "_model_module_version": "1.5.0",
            "tooltip": "",
            "_view_count": null,
            "disabled": false,
            "_view_module_version": "1.5.0",
            "layout": "IPY_MODEL_72cc8fb1044c4397929a0a8df66c8fb8",
            "_model_module": "@jupyter-widgets/controls",
            "icon": ""
          }
        },
        "f7216c3d4b1f44f4983c4fea929d021e": {
          "model_module": "@jupyter-widgets/controls",
          "model_name": "ButtonStyleModel",
          "state": {
            "_view_name": "StyleView",
            "_model_name": "ButtonStyleModel",
            "_view_module": "@jupyter-widgets/base",
            "_model_module_version": "1.5.0",
            "_view_count": null,
            "button_color": null,
            "font_weight": "",
            "_view_module_version": "1.2.0",
            "_model_module": "@jupyter-widgets/controls"
          }
        },
        "72cc8fb1044c4397929a0a8df66c8fb8": {
          "model_module": "@jupyter-widgets/base",
          "model_name": "LayoutModel",
          "state": {
            "_view_name": "LayoutView",
            "grid_template_rows": null,
            "right": null,
            "justify_content": null,
            "_view_module": "@jupyter-widgets/base",
            "overflow": null,
            "_model_module_version": "1.2.0",
            "_view_count": null,
            "flex_flow": null,
            "width": null,
            "min_width": null,
            "border": null,
            "align_items": null,
            "bottom": null,
            "_model_module": "@jupyter-widgets/base",
            "top": null,
            "grid_column": null,
            "overflow_y": null,
            "overflow_x": null,
            "grid_auto_flow": null,
            "grid_area": null,
            "grid_template_columns": null,
            "flex": null,
            "_model_name": "LayoutModel",
            "justify_items": null,
            "grid_row": null,
            "max_height": null,
            "align_content": null,
            "visibility": null,
            "align_self": null,
            "height": null,
            "min_height": null,
            "padding": null,
            "grid_auto_rows": null,
            "grid_gap": null,
            "max_width": null,
            "order": null,
            "_view_module_version": "1.2.0",
            "grid_template_areas": null,
            "object_position": null,
            "object_fit": null,
            "grid_auto_columns": null,
            "margin": null,
            "display": null,
            "left": null
          }
        },
        "75d405b5a6c6483182b619096eca9918": {
          "model_module": "@jupyter-widgets/output",
          "model_name": "OutputModel",
          "state": {
            "_view_name": "OutputView",
            "msg_id": "",
            "_dom_classes": [],
            "_model_name": "OutputModel",
            "outputs": [],
            "_view_module": "@jupyter-widgets/output",
            "_model_module_version": "1.0.0",
            "_view_count": null,
            "_view_module_version": "1.0.0",
            "layout": "IPY_MODEL_9565dad4d602485e9f05f4618422e840",
            "_model_module": "@jupyter-widgets/output"
          }
        },
        "9565dad4d602485e9f05f4618422e840": {
          "model_module": "@jupyter-widgets/base",
          "model_name": "LayoutModel",
          "state": {
            "_view_name": "LayoutView",
            "grid_template_rows": null,
            "right": null,
            "justify_content": null,
            "_view_module": "@jupyter-widgets/base",
            "overflow": null,
            "_model_module_version": "1.2.0",
            "_view_count": null,
            "flex_flow": null,
            "width": null,
            "min_width": null,
            "border": null,
            "align_items": null,
            "bottom": null,
            "_model_module": "@jupyter-widgets/base",
            "top": null,
            "grid_column": null,
            "overflow_y": null,
            "overflow_x": null,
            "grid_auto_flow": null,
            "grid_area": null,
            "grid_template_columns": null,
            "flex": null,
            "_model_name": "LayoutModel",
            "justify_items": null,
            "grid_row": null,
            "max_height": null,
            "align_content": null,
            "visibility": null,
            "align_self": null,
            "height": null,
            "min_height": null,
            "padding": null,
            "grid_auto_rows": null,
            "grid_gap": null,
            "max_width": null,
            "order": null,
            "_view_module_version": "1.2.0",
            "grid_template_areas": null,
            "object_position": null,
            "object_fit": null,
            "grid_auto_columns": null,
            "margin": null,
            "display": null,
            "left": null
          }
        },
        "e0bd4f3f7d4f4b459237e2096e89c811": {
          "model_module": "@jupyter-widgets/controls",
          "model_name": "ButtonModel",
          "state": {
            "_view_name": "ButtonView",
            "style": "IPY_MODEL_44e22a10eb204ca9a3d1b6035ed2e1c2",
            "_dom_classes": [],
            "description": "DESCRIBE",
            "_model_name": "ButtonModel",
            "button_style": "",
            "_view_module": "@jupyter-widgets/controls",
            "_model_module_version": "1.5.0",
            "tooltip": "",
            "_view_count": null,
            "disabled": false,
            "_view_module_version": "1.5.0",
            "layout": "IPY_MODEL_4a8ee927929c419eaca7dddbef32230b",
            "_model_module": "@jupyter-widgets/controls",
            "icon": ""
          }
        },
        "44e22a10eb204ca9a3d1b6035ed2e1c2": {
          "model_module": "@jupyter-widgets/controls",
          "model_name": "ButtonStyleModel",
          "state": {
            "_view_name": "StyleView",
            "_model_name": "ButtonStyleModel",
            "_view_module": "@jupyter-widgets/base",
            "_model_module_version": "1.5.0",
            "_view_count": null,
            "button_color": null,
            "font_weight": "",
            "_view_module_version": "1.2.0",
            "_model_module": "@jupyter-widgets/controls"
          }
        },
        "4a8ee927929c419eaca7dddbef32230b": {
          "model_module": "@jupyter-widgets/base",
          "model_name": "LayoutModel",
          "state": {
            "_view_name": "LayoutView",
            "grid_template_rows": null,
            "right": null,
            "justify_content": null,
            "_view_module": "@jupyter-widgets/base",
            "overflow": null,
            "_model_module_version": "1.2.0",
            "_view_count": null,
            "flex_flow": null,
            "width": null,
            "min_width": null,
            "border": null,
            "align_items": null,
            "bottom": null,
            "_model_module": "@jupyter-widgets/base",
            "top": null,
            "grid_column": null,
            "overflow_y": null,
            "overflow_x": null,
            "grid_auto_flow": null,
            "grid_area": null,
            "grid_template_columns": null,
            "flex": null,
            "_model_name": "LayoutModel",
            "justify_items": null,
            "grid_row": null,
            "max_height": null,
            "align_content": null,
            "visibility": null,
            "align_self": null,
            "height": null,
            "min_height": null,
            "padding": null,
            "grid_auto_rows": null,
            "grid_gap": null,
            "max_width": null,
            "order": null,
            "_view_module_version": "1.2.0",
            "grid_template_areas": null,
            "object_position": null,
            "object_fit": null,
            "grid_auto_columns": null,
            "margin": null,
            "display": null,
            "left": null
          }
        },
        "67d0fb48181b4ac79ef5e515420cef9a": {
          "model_module": "@jupyter-widgets/output",
          "model_name": "OutputModel",
          "state": {
            "_view_name": "OutputView",
            "msg_id": "",
            "_dom_classes": [],
            "_model_name": "OutputModel",
            "outputs": [],
            "_view_module": "@jupyter-widgets/output",
            "_model_module_version": "1.0.0",
            "_view_count": null,
            "_view_module_version": "1.0.0",
            "layout": "IPY_MODEL_00d4585686c44c4f9ceafd92db8b31f3",
            "_model_module": "@jupyter-widgets/output"
          }
        },
        "00d4585686c44c4f9ceafd92db8b31f3": {
          "model_module": "@jupyter-widgets/base",
          "model_name": "LayoutModel",
          "state": {
            "_view_name": "LayoutView",
            "grid_template_rows": null,
            "right": null,
            "justify_content": null,
            "_view_module": "@jupyter-widgets/base",
            "overflow": null,
            "_model_module_version": "1.2.0",
            "_view_count": null,
            "flex_flow": null,
            "width": null,
            "min_width": null,
            "border": null,
            "align_items": null,
            "bottom": null,
            "_model_module": "@jupyter-widgets/base",
            "top": null,
            "grid_column": null,
            "overflow_y": null,
            "overflow_x": null,
            "grid_auto_flow": null,
            "grid_area": null,
            "grid_template_columns": null,
            "flex": null,
            "_model_name": "LayoutModel",
            "justify_items": null,
            "grid_row": null,
            "max_height": null,
            "align_content": null,
            "visibility": null,
            "align_self": null,
            "height": null,
            "min_height": null,
            "padding": null,
            "grid_auto_rows": null,
            "grid_gap": null,
            "max_width": null,
            "order": null,
            "_view_module_version": "1.2.0",
            "grid_template_areas": null,
            "object_position": null,
            "object_fit": null,
            "grid_auto_columns": null,
            "margin": null,
            "display": null,
            "left": null
          }
        }
      }
    }
  },
  "cells": [
    {
      "cell_type": "markdown",
      "metadata": {
        "id": "view-in-github",
        "colab_type": "text"
      },
      "source": [
        "<a href=\"https://colab.research.google.com/github/LUMINESCCENT/LAB1/blob/main/Glass.ipynb\" target=\"_parent\"><img src=\"https://colab.research.google.com/assets/colab-badge.svg\" alt=\"Open In Colab\"/></a>"
      ]
    },
    {
      "cell_type": "markdown",
      "metadata": {
        "id": "n2B_d3Jf3gO4"
      },
      "source": [
        "# Basic Widgets"
      ]
    },
    {
      "cell_type": "code",
      "metadata": {
        "id": "3ZXwd49Eq29c"
      },
      "source": [
        "import ipywidgets as wd"
      ],
      "execution_count": null,
      "outputs": []
    },
    {
      "cell_type": "code",
      "metadata": {
        "id": "wy5PxLbiq5jG"
      },
      "source": [
        "from IPython.display import  display"
      ],
      "execution_count": null,
      "outputs": []
    },
    {
      "cell_type": "code",
      "metadata": {
        "id": "JsM_rkXEq7Ig"
      },
      "source": [
        "sl1 = wd.IntSlider()"
      ],
      "execution_count": null,
      "outputs": []
    },
    {
      "cell_type": "code",
      "metadata": {
        "colab": {
          "base_uri": "https://localhost:8080/",
          "height": 49,
          "referenced_widgets": [
            "f2a732dc7f164bba8c4a7c56f31dd785",
            "52b0b184c8ca45d8849bb817278c4dc2",
            "3ca41377dcd34f8694b56557ef162989"
          ]
        },
        "id": "yYBZ852Hq8s0",
        "outputId": "535e36fd-fcc3-4cf2-ab41-6bbcb7ccdb94"
      },
      "source": [
        "sl1"
      ],
      "execution_count": null,
      "outputs": [
        {
          "output_type": "display_data",
          "data": {
            "application/vnd.jupyter.widget-view+json": {
              "model_id": "f2a732dc7f164bba8c4a7c56f31dd785",
              "version_minor": 0,
              "version_major": 2
            },
            "text/plain": [
              "IntSlider(value=0)"
            ]
          },
          "metadata": {
            "tags": []
          }
        }
      ]
    },
    {
      "cell_type": "code",
      "metadata": {
        "id": "Atkdgmo2rGAv"
      },
      "source": [
        "name = wd.Text(value='Polina')"
      ],
      "execution_count": null,
      "outputs": []
    },
    {
      "cell_type": "code",
      "metadata": {
        "colab": {
          "base_uri": "https://localhost:8080/",
          "height": 49,
          "referenced_widgets": [
            "52ef2b2f1b7f463f9911450ee91e0582",
            "47592bf73e92407db3a327cebe39e391",
            "8ebc99c33dcd49b5a7865795f0573002"
          ]
        },
        "id": "bgE95cMUq-gV",
        "outputId": "586388bf-b32a-4cb0-c4a5-7f7b0e07ebc3"
      },
      "source": [
        "display(name)"
      ],
      "execution_count": null,
      "outputs": [
        {
          "output_type": "display_data",
          "data": {
            "application/vnd.jupyter.widget-view+json": {
              "model_id": "52ef2b2f1b7f463f9911450ee91e0582",
              "version_minor": 0,
              "version_major": 2
            },
            "text/plain": [
              "Text(value='Polina')"
            ]
          },
          "metadata": {
            "tags": []
          }
        }
      ]
    },
    {
      "cell_type": "code",
      "metadata": {
        "id": "XyOiLv3grM_I"
      },
      "source": [
        "import time"
      ],
      "execution_count": null,
      "outputs": []
    },
    {
      "cell_type": "code",
      "metadata": {
        "colab": {
          "base_uri": "https://localhost:8080/",
          "height": 49,
          "referenced_widgets": [
            "fef2898c58a94a0a934cd560f354c1c4",
            "fada439f1591405980910a5ea9c627cc",
            "b12fcb50f0184d0bb5df92466f0fe9dd"
          ]
        },
        "id": "X9ob27yOrOLV",
        "outputId": "df7dc4f2-b1d6-44ab-aaee-3573c9255a8b"
      },
      "source": [
        "pb1 = wd.IntProgress(value=0,\n",
        "                          min=1,\n",
        "                          max=100,\n",
        "                          description='Loading: ',\n",
        "                          bar_style='',\n",
        "                          orientation='horizontal')\n",
        "display(pb1)\n",
        "\n",
        "for i in range(100):\n",
        "    pb1.value = i+1\n",
        "    time.sleep(0.2)"
      ],
      "execution_count": null,
      "outputs": [
        {
          "output_type": "display_data",
          "data": {
            "application/vnd.jupyter.widget-view+json": {
              "model_id": "fef2898c58a94a0a934cd560f354c1c4",
              "version_minor": 0,
              "version_major": 2
            },
            "text/plain": [
              "IntProgress(value=1, description='Loading: ', min=1)"
            ]
          },
          "metadata": {
            "tags": []
          }
        }
      ]
    },
    {
      "cell_type": "markdown",
      "metadata": {
        "id": "tu-F8Q7X330j"
      },
      "source": [
        "# Button"
      ]
    },
    {
      "cell_type": "code",
      "metadata": {
        "colab": {
          "base_uri": "https://localhost:8080/",
          "height": 49,
          "referenced_widgets": [
            "f7da35445f3b4367b03d3ebf2dc3660f",
            "6b39096899c64c81909b54f03748bf47",
            "267f608e25094d50b4baa910bbfe4f55",
            "69ee732e702e4f529f1c44de5b42cbe5",
            "7d3346ff2bf74485bc9c0a70c4a5c4e3"
          ]
        },
        "id": "QywZ3RPHrXXR",
        "outputId": "ba11fff7-d66b-497a-eb6a-dd10c00dd13b"
      },
      "source": [
        "button = wd.Button(description=\"Кнопка!\")\n",
        "output = wd.Output()\n",
        "\n",
        "def  on_my_button_click(b):\n",
        "    with output:\n",
        "        print(\"Button clicked (msq1).\")\n",
        "        print(\"Button clicked (msq2).\")\n",
        "\n",
        "button.on_click(on_my_button_click)\n",
        "display(button, output)"
      ],
      "execution_count": null,
      "outputs": [
        {
          "output_type": "display_data",
          "data": {
            "application/vnd.jupyter.widget-view+json": {
              "model_id": "f7da35445f3b4367b03d3ebf2dc3660f",
              "version_minor": 0,
              "version_major": 2
            },
            "text/plain": [
              "Button(description='Кнопка!', style=ButtonStyle())"
            ]
          },
          "metadata": {
            "tags": []
          }
        },
        {
          "output_type": "display_data",
          "data": {
            "application/vnd.jupyter.widget-view+json": {
              "model_id": "69ee732e702e4f529f1c44de5b42cbe5",
              "version_minor": 0,
              "version_major": 2
            },
            "text/plain": [
              "Output()"
            ]
          },
          "metadata": {
            "tags": []
          }
        }
      ]
    },
    {
      "cell_type": "markdown",
      "metadata": {
        "id": "9rzmPN_14aXD"
      },
      "source": [
        "# Interact"
      ]
    },
    {
      "cell_type": "code",
      "metadata": {
        "colab": {
          "base_uri": "https://localhost:8080/",
          "height": 83,
          "referenced_widgets": [
            "368dce42e7384913b175481f57bdc56a",
            "5089d40f727a4f5280c501ec63bd12d8",
            "0db3dc6d7af94d99bbccddd6629b8415",
            "506ce5363f354d98a9dbb799f84b0687",
            "daec03aa21a041c582f7c7c6f836e882",
            "2c85ec13f8bd47c7b6fdd016bbb7e1f8",
            "e0989fd56bd64804a9c5a65ec1b3b377"
          ]
        },
        "id": "2CsGlKg8rZ49",
        "outputId": "f04c77e6-f8cc-4d6e-a811-a6250271aeac"
      },
      "source": [
        "def say_my_name(name):\n",
        "    print(f'My name is',  (name))\n",
        "\n",
        "wd.interact(say_my_name, name=[\"Полина\", \"Вероника\", \"Александр\"])"
      ],
      "execution_count": null,
      "outputs": [
        {
          "output_type": "display_data",
          "data": {
            "application/vnd.jupyter.widget-view+json": {
              "model_id": "368dce42e7384913b175481f57bdc56a",
              "version_minor": 0,
              "version_major": 2
            },
            "text/plain": [
              "interactive(children=(Dropdown(description='name', options=('Полина', 'Вероника', 'Александр'), value='Полина'…"
            ]
          },
          "metadata": {
            "tags": []
          }
        },
        {
          "output_type": "execute_result",
          "data": {
            "text/plain": [
              "<function __main__.say_my_name>"
            ]
          },
          "metadata": {
            "tags": []
          },
          "execution_count": 11
        }
      ]
    },
    {
      "cell_type": "markdown",
      "metadata": {
        "id": "pB5L4dUS4qOE"
      },
      "source": [
        "# Sin"
      ]
    },
    {
      "cell_type": "code",
      "metadata": {
        "colab": {
          "base_uri": "https://localhost:8080/"
        },
        "id": "K2dB4P3arqSx",
        "outputId": "7e1ed9c5-02e7-4059-d46f-adc31af250b6"
      },
      "source": [
        "import numpy as np\n",
        "import matplotlib.pyplot as plt\n",
        "%matplotlib -l\n",
        "%matplotlib inline"
      ],
      "execution_count": null,
      "outputs": [
        {
          "output_type": "stream",
          "text": [
            "Available matplotlib backends: ['tk', 'gtk', 'gtk3', 'wx', 'qt4', 'qt5', 'qt', 'osx', 'nbagg', 'notebook', 'agg', 'inline', 'ipympl', 'widget']\n"
          ],
          "name": "stdout"
        }
      ]
    },
    {
      "cell_type": "code",
      "metadata": {
        "id": "tX8aUq2Grudc"
      },
      "source": [
        "x = np.linspace(0, 2 * np.pi, 100)"
      ],
      "execution_count": null,
      "outputs": []
    },
    {
      "cell_type": "code",
      "metadata": {
        "colab": {
          "base_uri": "https://localhost:8080/",
          "height": 395,
          "referenced_widgets": [
            "8b7f6fada3d549099afa29de245d8ac0",
            "8830d871aac744b48e675184a784b688",
            "dae22d183c234fd896448bf51ff62d0e",
            "ee02c6f55cf94e04923a5d76d2da3aa4",
            "9195d01ecb674a1b88f3dd70b1d8b6f4",
            "07f95a146d854bcf831011ba680fbecf",
            "65e9e795bb2b4ef3bbc264df30083504",
            "70f0b7e6256d42a5bdeb7cba3f24102c",
            "945b40a1cf4c4e0bb4daf69cd246ac77",
            "c7f0ffac063643999a4cb7c6fca09b43",
            "338d12f4065d4bfb9c182844b7eeb614",
            "33cb8a33aee74100a4a1ba409ddbc9e5",
            "d5aae9b143ba48f5ad1b97d25798d7a6"
          ]
        },
        "id": "33o3WfY6ru3Z",
        "outputId": "8817c91c-9c8e-4bf9-d944-09f24a8abeb9"
      },
      "source": [
        "def my_sin(x, amp, w, phi):\n",
        "  return (amp*np.sin(w*(x - phi)))\n",
        "def draw_sin(w, amp, phi):\n",
        "  y = my_sin(x, amp, w, phi)\n",
        "  fig, ax = plt.subplots()\n",
        "  ax.grid(True)\n",
        "  ax.plot(x, y, color='blue')\n",
        "  print(w, amp, phi)\n",
        "wd.interact(draw_sin, w=(0,10,1), amp = (0,4,.1), phi=(0,2*np.pi + 0.01, 0.01))"
      ],
      "execution_count": null,
      "outputs": [
        {
          "output_type": "display_data",
          "data": {
            "application/vnd.jupyter.widget-view+json": {
              "model_id": "8b7f6fada3d549099afa29de245d8ac0",
              "version_minor": 0,
              "version_major": 2
            },
            "text/plain": [
              "interactive(children=(IntSlider(value=5, description='w', max=10), FloatSlider(value=2.0, description='amp', m…"
            ]
          },
          "metadata": {
            "tags": []
          }
        },
        {
          "output_type": "execute_result",
          "data": {
            "text/plain": [
              "<function __main__.draw_sin>"
            ]
          },
          "metadata": {
            "tags": []
          },
          "execution_count": 14
        }
      ]
    },
    {
      "cell_type": "markdown",
      "metadata": {
        "id": "gsZswkgi4yb9"
      },
      "source": [
        "# Data"
      ]
    },
    {
      "cell_type": "code",
      "metadata": {
        "id": "QncnuG8Yr6Cx"
      },
      "source": [
        "import pandas as pd"
      ],
      "execution_count": null,
      "outputs": []
    },
    {
      "cell_type": "code",
      "metadata": {
        "id": "EhrRV3chr6nS"
      },
      "source": [
        "data = pd.read_csv(\"/content/sample_data/california_housing_test.csv\")"
      ],
      "execution_count": null,
      "outputs": []
    },
    {
      "cell_type": "code",
      "metadata": {
        "colab": {
          "base_uri": "https://localhost:8080/"
        },
        "id": "Q1_4LZgqr-Yp",
        "outputId": "21e50fb6-da64-4f45-d1d6-b11c3c84a71f"
      },
      "source": [
        "data.info()"
      ],
      "execution_count": null,
      "outputs": [
        {
          "output_type": "stream",
          "text": [
            "<class 'pandas.core.frame.DataFrame'>\n",
            "RangeIndex: 3000 entries, 0 to 2999\n",
            "Data columns (total 9 columns):\n",
            " #   Column              Non-Null Count  Dtype  \n",
            "---  ------              --------------  -----  \n",
            " 0   longitude           3000 non-null   float64\n",
            " 1   latitude            3000 non-null   float64\n",
            " 2   housing_median_age  3000 non-null   float64\n",
            " 3   total_rooms         3000 non-null   float64\n",
            " 4   total_bedrooms      3000 non-null   float64\n",
            " 5   population          3000 non-null   float64\n",
            " 6   households          3000 non-null   float64\n",
            " 7   median_income       3000 non-null   float64\n",
            " 8   median_house_value  3000 non-null   float64\n",
            "dtypes: float64(9)\n",
            "memory usage: 211.1 KB\n"
          ],
          "name": "stdout"
        }
      ]
    },
    {
      "cell_type": "code",
      "metadata": {
        "colab": {
          "base_uri": "https://localhost:8080/",
          "height": 297
        },
        "id": "KJmaJJ0NsB6n",
        "outputId": "efb498d3-45cc-4abf-ffa2-ef4518c14739"
      },
      "source": [
        "data.describe()"
      ],
      "execution_count": null,
      "outputs": [
        {
          "output_type": "execute_result",
          "data": {
            "text/html": [
              "<div>\n",
              "<style scoped>\n",
              "    .dataframe tbody tr th:only-of-type {\n",
              "        vertical-align: middle;\n",
              "    }\n",
              "\n",
              "    .dataframe tbody tr th {\n",
              "        vertical-align: top;\n",
              "    }\n",
              "\n",
              "    .dataframe thead th {\n",
              "        text-align: right;\n",
              "    }\n",
              "</style>\n",
              "<table border=\"1\" class=\"dataframe\">\n",
              "  <thead>\n",
              "    <tr style=\"text-align: right;\">\n",
              "      <th></th>\n",
              "      <th>longitude</th>\n",
              "      <th>latitude</th>\n",
              "      <th>housing_median_age</th>\n",
              "      <th>total_rooms</th>\n",
              "      <th>total_bedrooms</th>\n",
              "      <th>population</th>\n",
              "      <th>households</th>\n",
              "      <th>median_income</th>\n",
              "      <th>median_house_value</th>\n",
              "    </tr>\n",
              "  </thead>\n",
              "  <tbody>\n",
              "    <tr>\n",
              "      <th>count</th>\n",
              "      <td>3000.000000</td>\n",
              "      <td>3000.00000</td>\n",
              "      <td>3000.000000</td>\n",
              "      <td>3000.000000</td>\n",
              "      <td>3000.000000</td>\n",
              "      <td>3000.000000</td>\n",
              "      <td>3000.00000</td>\n",
              "      <td>3000.000000</td>\n",
              "      <td>3000.00000</td>\n",
              "    </tr>\n",
              "    <tr>\n",
              "      <th>mean</th>\n",
              "      <td>-119.589200</td>\n",
              "      <td>35.63539</td>\n",
              "      <td>28.845333</td>\n",
              "      <td>2599.578667</td>\n",
              "      <td>529.950667</td>\n",
              "      <td>1402.798667</td>\n",
              "      <td>489.91200</td>\n",
              "      <td>3.807272</td>\n",
              "      <td>205846.27500</td>\n",
              "    </tr>\n",
              "    <tr>\n",
              "      <th>std</th>\n",
              "      <td>1.994936</td>\n",
              "      <td>2.12967</td>\n",
              "      <td>12.555396</td>\n",
              "      <td>2155.593332</td>\n",
              "      <td>415.654368</td>\n",
              "      <td>1030.543012</td>\n",
              "      <td>365.42271</td>\n",
              "      <td>1.854512</td>\n",
              "      <td>113119.68747</td>\n",
              "    </tr>\n",
              "    <tr>\n",
              "      <th>min</th>\n",
              "      <td>-124.180000</td>\n",
              "      <td>32.56000</td>\n",
              "      <td>1.000000</td>\n",
              "      <td>6.000000</td>\n",
              "      <td>2.000000</td>\n",
              "      <td>5.000000</td>\n",
              "      <td>2.00000</td>\n",
              "      <td>0.499900</td>\n",
              "      <td>22500.00000</td>\n",
              "    </tr>\n",
              "    <tr>\n",
              "      <th>25%</th>\n",
              "      <td>-121.810000</td>\n",
              "      <td>33.93000</td>\n",
              "      <td>18.000000</td>\n",
              "      <td>1401.000000</td>\n",
              "      <td>291.000000</td>\n",
              "      <td>780.000000</td>\n",
              "      <td>273.00000</td>\n",
              "      <td>2.544000</td>\n",
              "      <td>121200.00000</td>\n",
              "    </tr>\n",
              "    <tr>\n",
              "      <th>50%</th>\n",
              "      <td>-118.485000</td>\n",
              "      <td>34.27000</td>\n",
              "      <td>29.000000</td>\n",
              "      <td>2106.000000</td>\n",
              "      <td>437.000000</td>\n",
              "      <td>1155.000000</td>\n",
              "      <td>409.50000</td>\n",
              "      <td>3.487150</td>\n",
              "      <td>177650.00000</td>\n",
              "    </tr>\n",
              "    <tr>\n",
              "      <th>75%</th>\n",
              "      <td>-118.020000</td>\n",
              "      <td>37.69000</td>\n",
              "      <td>37.000000</td>\n",
              "      <td>3129.000000</td>\n",
              "      <td>636.000000</td>\n",
              "      <td>1742.750000</td>\n",
              "      <td>597.25000</td>\n",
              "      <td>4.656475</td>\n",
              "      <td>263975.00000</td>\n",
              "    </tr>\n",
              "    <tr>\n",
              "      <th>max</th>\n",
              "      <td>-114.490000</td>\n",
              "      <td>41.92000</td>\n",
              "      <td>52.000000</td>\n",
              "      <td>30450.000000</td>\n",
              "      <td>5419.000000</td>\n",
              "      <td>11935.000000</td>\n",
              "      <td>4930.00000</td>\n",
              "      <td>15.000100</td>\n",
              "      <td>500001.00000</td>\n",
              "    </tr>\n",
              "  </tbody>\n",
              "</table>\n",
              "</div>"
            ],
            "text/plain": [
              "         longitude    latitude  ...  median_income  median_house_value\n",
              "count  3000.000000  3000.00000  ...    3000.000000          3000.00000\n",
              "mean   -119.589200    35.63539  ...       3.807272        205846.27500\n",
              "std       1.994936     2.12967  ...       1.854512        113119.68747\n",
              "min    -124.180000    32.56000  ...       0.499900         22500.00000\n",
              "25%    -121.810000    33.93000  ...       2.544000        121200.00000\n",
              "50%    -118.485000    34.27000  ...       3.487150        177650.00000\n",
              "75%    -118.020000    37.69000  ...       4.656475        263975.00000\n",
              "max    -114.490000    41.92000  ...      15.000100        500001.00000\n",
              "\n",
              "[8 rows x 9 columns]"
            ]
          },
          "metadata": {
            "tags": []
          },
          "execution_count": 18
        }
      ]
    },
    {
      "cell_type": "markdown",
      "metadata": {
        "id": "8e97Hi_h45Ve"
      },
      "source": [
        "# *Homework*"
      ]
    },
    {
      "cell_type": "code",
      "metadata": {
        "colab": {
          "base_uri": "https://localhost:8080/",
          "height": 81,
          "referenced_widgets": [
            "9b7612599c134726a63cf40b9b36470b",
            "f7216c3d4b1f44f4983c4fea929d021e",
            "72cc8fb1044c4397929a0a8df66c8fb8",
            "75d405b5a6c6483182b619096eca9918",
            "9565dad4d602485e9f05f4618422e840",
            "e0bd4f3f7d4f4b459237e2096e89c811",
            "44e22a10eb204ca9a3d1b6035ed2e1c2",
            "4a8ee927929c419eaca7dddbef32230b",
            "67d0fb48181b4ac79ef5e515420cef9a",
            "00d4585686c44c4f9ceafd92db8b31f3"
          ]
        },
        "id": "8j_kc3-9sDxX",
        "outputId": "dda71563-9bb9-4a91-c1e0-79826f265cdc"
      },
      "source": [
        "button = wd.Button(description=\"INFO\")\n",
        "output = wd.Output()\n",
        "\n",
        "def  on_my_button_click(b):\n",
        "    with output:\n",
        "        print(data.info())\n",
        "        print('_________________________')\n",
        "button.on_click(on_my_button_click)\n",
        "display(button, output)\n",
        "\n",
        "button = wd.Button(description=\"DESCRIBE\")\n",
        "output = wd.Output()\n",
        "\n",
        "def  on_my_button_click(b):\n",
        "    with output:\n",
        "        print(data.describe())\n",
        "        print('_________________________')\n",
        "button.on_click(on_my_button_click)\n",
        "display(button, output)"
      ],
      "execution_count": null,
      "outputs": [
        {
          "output_type": "display_data",
          "data": {
            "application/vnd.jupyter.widget-view+json": {
              "model_id": "9b7612599c134726a63cf40b9b36470b",
              "version_minor": 0,
              "version_major": 2
            },
            "text/plain": [
              "Button(description='INFO', style=ButtonStyle())"
            ]
          },
          "metadata": {
            "tags": []
          }
        },
        {
          "output_type": "display_data",
          "data": {
            "application/vnd.jupyter.widget-view+json": {
              "model_id": "75d405b5a6c6483182b619096eca9918",
              "version_minor": 0,
              "version_major": 2
            },
            "text/plain": [
              "Output()"
            ]
          },
          "metadata": {
            "tags": []
          }
        },
        {
          "output_type": "display_data",
          "data": {
            "application/vnd.jupyter.widget-view+json": {
              "model_id": "e0bd4f3f7d4f4b459237e2096e89c811",
              "version_minor": 0,
              "version_major": 2
            },
            "text/plain": [
              "Button(description='DESCRIBE', style=ButtonStyle())"
            ]
          },
          "metadata": {
            "tags": []
          }
        },
        {
          "output_type": "display_data",
          "data": {
            "application/vnd.jupyter.widget-view+json": {
              "model_id": "67d0fb48181b4ac79ef5e515420cef9a",
              "version_minor": 0,
              "version_major": 2
            },
            "text/plain": [
              "Output()"
            ]
          },
          "metadata": {
            "tags": []
          }
        }
      ]
    },
    {
      "cell_type": "markdown",
      "metadata": {
        "id": "50pCJrJd5JzH"
      },
      "source": [
        "# Import packages"
      ]
    },
    {
      "cell_type": "code",
      "metadata": {
        "id": "kgYWfeC5sPCu"
      },
      "source": [
        "import pandas as pd\n",
        "import numpy as np\n",
        "from IPython.display import display"
      ],
      "execution_count": null,
      "outputs": []
    },
    {
      "cell_type": "markdown",
      "metadata": {
        "id": "EXiJ9r-U5UH7"
      },
      "source": [
        "# Import data"
      ]
    },
    {
      "cell_type": "code",
      "metadata": {
        "colab": {
          "base_uri": "https://localhost:8080/",
          "height": 204
        },
        "id": "qmDb1x0LsVVu",
        "outputId": "818cc8c1-e976-4868-b048-a91609500093"
      },
      "source": [
        "data = pd.read_csv(\"https://archive.ics.uci.edu/ml/machine-learning-databases/glass/glass.data\",\n",
        "                   header = None)\n",
        "data.head(5)"
      ],
      "execution_count": null,
      "outputs": [
        {
          "output_type": "execute_result",
          "data": {
            "text/html": [
              "<div>\n",
              "<style scoped>\n",
              "    .dataframe tbody tr th:only-of-type {\n",
              "        vertical-align: middle;\n",
              "    }\n",
              "\n",
              "    .dataframe tbody tr th {\n",
              "        vertical-align: top;\n",
              "    }\n",
              "\n",
              "    .dataframe thead th {\n",
              "        text-align: right;\n",
              "    }\n",
              "</style>\n",
              "<table border=\"1\" class=\"dataframe\">\n",
              "  <thead>\n",
              "    <tr style=\"text-align: right;\">\n",
              "      <th></th>\n",
              "      <th>0</th>\n",
              "      <th>1</th>\n",
              "      <th>2</th>\n",
              "      <th>3</th>\n",
              "      <th>4</th>\n",
              "      <th>5</th>\n",
              "      <th>6</th>\n",
              "      <th>7</th>\n",
              "      <th>8</th>\n",
              "      <th>9</th>\n",
              "      <th>10</th>\n",
              "    </tr>\n",
              "  </thead>\n",
              "  <tbody>\n",
              "    <tr>\n",
              "      <th>0</th>\n",
              "      <td>1</td>\n",
              "      <td>1.52101</td>\n",
              "      <td>13.64</td>\n",
              "      <td>4.49</td>\n",
              "      <td>1.10</td>\n",
              "      <td>71.78</td>\n",
              "      <td>0.06</td>\n",
              "      <td>8.75</td>\n",
              "      <td>0.0</td>\n",
              "      <td>0.0</td>\n",
              "      <td>1</td>\n",
              "    </tr>\n",
              "    <tr>\n",
              "      <th>1</th>\n",
              "      <td>2</td>\n",
              "      <td>1.51761</td>\n",
              "      <td>13.89</td>\n",
              "      <td>3.60</td>\n",
              "      <td>1.36</td>\n",
              "      <td>72.73</td>\n",
              "      <td>0.48</td>\n",
              "      <td>7.83</td>\n",
              "      <td>0.0</td>\n",
              "      <td>0.0</td>\n",
              "      <td>1</td>\n",
              "    </tr>\n",
              "    <tr>\n",
              "      <th>2</th>\n",
              "      <td>3</td>\n",
              "      <td>1.51618</td>\n",
              "      <td>13.53</td>\n",
              "      <td>3.55</td>\n",
              "      <td>1.54</td>\n",
              "      <td>72.99</td>\n",
              "      <td>0.39</td>\n",
              "      <td>7.78</td>\n",
              "      <td>0.0</td>\n",
              "      <td>0.0</td>\n",
              "      <td>1</td>\n",
              "    </tr>\n",
              "    <tr>\n",
              "      <th>3</th>\n",
              "      <td>4</td>\n",
              "      <td>1.51766</td>\n",
              "      <td>13.21</td>\n",
              "      <td>3.69</td>\n",
              "      <td>1.29</td>\n",
              "      <td>72.61</td>\n",
              "      <td>0.57</td>\n",
              "      <td>8.22</td>\n",
              "      <td>0.0</td>\n",
              "      <td>0.0</td>\n",
              "      <td>1</td>\n",
              "    </tr>\n",
              "    <tr>\n",
              "      <th>4</th>\n",
              "      <td>5</td>\n",
              "      <td>1.51742</td>\n",
              "      <td>13.27</td>\n",
              "      <td>3.62</td>\n",
              "      <td>1.24</td>\n",
              "      <td>73.08</td>\n",
              "      <td>0.55</td>\n",
              "      <td>8.07</td>\n",
              "      <td>0.0</td>\n",
              "      <td>0.0</td>\n",
              "      <td>1</td>\n",
              "    </tr>\n",
              "  </tbody>\n",
              "</table>\n",
              "</div>"
            ],
            "text/plain": [
              "   0        1      2     3     4      5     6     7    8    9   10\n",
              "0   1  1.52101  13.64  4.49  1.10  71.78  0.06  8.75  0.0  0.0   1\n",
              "1   2  1.51761  13.89  3.60  1.36  72.73  0.48  7.83  0.0  0.0   1\n",
              "2   3  1.51618  13.53  3.55  1.54  72.99  0.39  7.78  0.0  0.0   1\n",
              "3   4  1.51766  13.21  3.69  1.29  72.61  0.57  8.22  0.0  0.0   1\n",
              "4   5  1.51742  13.27  3.62  1.24  73.08  0.55  8.07  0.0  0.0   1"
            ]
          },
          "metadata": {
            "tags": []
          },
          "execution_count": 21
        }
      ]
    },
    {
      "cell_type": "code",
      "metadata": {
        "colab": {
          "base_uri": "https://localhost:8080/",
          "height": 142
        },
        "id": "re8eBTlAsa56",
        "outputId": "159fe0cc-b0a3-4ad1-8561-4b6833616b23"
      },
      "source": [
        "names = [\"Id\", \"RI\", \"Na\", \"Mg\", \"Al\", \"Si\", \"K\", \"Ca\", \"Ba\", \"Fe\", \"Class\"]\n",
        "data.columns = names\n",
        "data = data.drop(columns=['Id'])\n",
        "data.head(3)"
      ],
      "execution_count": null,
      "outputs": [
        {
          "output_type": "execute_result",
          "data": {
            "text/html": [
              "<div>\n",
              "<style scoped>\n",
              "    .dataframe tbody tr th:only-of-type {\n",
              "        vertical-align: middle;\n",
              "    }\n",
              "\n",
              "    .dataframe tbody tr th {\n",
              "        vertical-align: top;\n",
              "    }\n",
              "\n",
              "    .dataframe thead th {\n",
              "        text-align: right;\n",
              "    }\n",
              "</style>\n",
              "<table border=\"1\" class=\"dataframe\">\n",
              "  <thead>\n",
              "    <tr style=\"text-align: right;\">\n",
              "      <th></th>\n",
              "      <th>RI</th>\n",
              "      <th>Na</th>\n",
              "      <th>Mg</th>\n",
              "      <th>Al</th>\n",
              "      <th>Si</th>\n",
              "      <th>K</th>\n",
              "      <th>Ca</th>\n",
              "      <th>Ba</th>\n",
              "      <th>Fe</th>\n",
              "      <th>Class</th>\n",
              "    </tr>\n",
              "  </thead>\n",
              "  <tbody>\n",
              "    <tr>\n",
              "      <th>0</th>\n",
              "      <td>1.52101</td>\n",
              "      <td>13.64</td>\n",
              "      <td>4.49</td>\n",
              "      <td>1.10</td>\n",
              "      <td>71.78</td>\n",
              "      <td>0.06</td>\n",
              "      <td>8.75</td>\n",
              "      <td>0.0</td>\n",
              "      <td>0.0</td>\n",
              "      <td>1</td>\n",
              "    </tr>\n",
              "    <tr>\n",
              "      <th>1</th>\n",
              "      <td>1.51761</td>\n",
              "      <td>13.89</td>\n",
              "      <td>3.60</td>\n",
              "      <td>1.36</td>\n",
              "      <td>72.73</td>\n",
              "      <td>0.48</td>\n",
              "      <td>7.83</td>\n",
              "      <td>0.0</td>\n",
              "      <td>0.0</td>\n",
              "      <td>1</td>\n",
              "    </tr>\n",
              "    <tr>\n",
              "      <th>2</th>\n",
              "      <td>1.51618</td>\n",
              "      <td>13.53</td>\n",
              "      <td>3.55</td>\n",
              "      <td>1.54</td>\n",
              "      <td>72.99</td>\n",
              "      <td>0.39</td>\n",
              "      <td>7.78</td>\n",
              "      <td>0.0</td>\n",
              "      <td>0.0</td>\n",
              "      <td>1</td>\n",
              "    </tr>\n",
              "  </tbody>\n",
              "</table>\n",
              "</div>"
            ],
            "text/plain": [
              "        RI     Na    Mg    Al     Si     K    Ca   Ba   Fe  Class\n",
              "0  1.52101  13.64  4.49  1.10  71.78  0.06  8.75  0.0  0.0      1\n",
              "1  1.51761  13.89  3.60  1.36  72.73  0.48  7.83  0.0  0.0      1\n",
              "2  1.51618  13.53  3.55  1.54  72.99  0.39  7.78  0.0  0.0      1"
            ]
          },
          "metadata": {
            "tags": []
          },
          "execution_count": 22
        }
      ]
    },
    {
      "cell_type": "code",
      "metadata": {
        "colab": {
          "base_uri": "https://localhost:8080/"
        },
        "id": "IcBhZG0LsfAt",
        "outputId": "62984169-ae33-4513-96b4-a30428c46f96"
      },
      "source": [
        "data['Class'].replace({1:\"building_float\", \n",
        "                       2:\"building_non_float\", \n",
        "                       3:\"vehicle_float\",\n",
        "                       4:\"vehicle_non_float\",\n",
        "                       5:\"containers\",\n",
        "                       6:\"tableware\",\n",
        "                       7:\"headlamps\"}, inplace=True)\n",
        "data['Class'].value_counts()"
      ],
      "execution_count": null,
      "outputs": [
        {
          "output_type": "execute_result",
          "data": {
            "text/plain": [
              "building_non_float    76\n",
              "building_float        70\n",
              "headlamps             29\n",
              "vehicle_float         17\n",
              "containers            13\n",
              "tableware              9\n",
              "Name: Class, dtype: int64"
            ]
          },
          "metadata": {
            "tags": []
          },
          "execution_count": 23
        }
      ]
    },
    {
      "cell_type": "code",
      "metadata": {
        "colab": {
          "base_uri": "https://localhost:8080/"
        },
        "id": "wlefSnl-sh62",
        "outputId": "0b13007f-0abd-47c3-cf42-efeb622e741d"
      },
      "source": [
        "data.info()"
      ],
      "execution_count": null,
      "outputs": [
        {
          "output_type": "stream",
          "text": [
            "<class 'pandas.core.frame.DataFrame'>\n",
            "RangeIndex: 214 entries, 0 to 213\n",
            "Data columns (total 10 columns):\n",
            " #   Column  Non-Null Count  Dtype  \n",
            "---  ------  --------------  -----  \n",
            " 0   RI      214 non-null    float64\n",
            " 1   Na      214 non-null    float64\n",
            " 2   Mg      214 non-null    float64\n",
            " 3   Al      214 non-null    float64\n",
            " 4   Si      214 non-null    float64\n",
            " 5   K       214 non-null    float64\n",
            " 6   Ca      214 non-null    float64\n",
            " 7   Ba      214 non-null    float64\n",
            " 8   Fe      214 non-null    float64\n",
            " 9   Class   214 non-null    object \n",
            "dtypes: float64(9), object(1)\n",
            "memory usage: 16.8+ KB\n"
          ],
          "name": "stdout"
        }
      ]
    },
    {
      "cell_type": "code",
      "metadata": {
        "id": "dt6KHLj4sjUY"
      },
      "source": [
        " for col in data.columns:\n",
        "      fr = np.random.randint(5,10)/100\n",
        "      data.loc[data.sample(frac=fr).index, col] = np.nan"
      ],
      "execution_count": null,
      "outputs": []
    },
    {
      "cell_type": "markdown",
      "metadata": {
        "id": "ely-Tqiq5cei"
      },
      "source": [
        "# Data visualization"
      ]
    },
    {
      "cell_type": "code",
      "metadata": {
        "colab": {
          "base_uri": "https://localhost:8080/"
        },
        "id": "xCPR06PMsnI4",
        "outputId": "df30aa1b-5422-4507-ef3b-e199d9b33f67"
      },
      "source": [
        "data.info()"
      ],
      "execution_count": null,
      "outputs": [
        {
          "output_type": "stream",
          "text": [
            "<class 'pandas.core.frame.DataFrame'>\n",
            "RangeIndex: 214 entries, 0 to 213\n",
            "Data columns (total 10 columns):\n",
            " #   Column  Non-Null Count  Dtype  \n",
            "---  ------  --------------  -----  \n",
            " 0   RI      201 non-null    float64\n",
            " 1   Na      201 non-null    float64\n",
            " 2   Mg      197 non-null    float64\n",
            " 3   Al      199 non-null    float64\n",
            " 4   Si      195 non-null    float64\n",
            " 5   K       201 non-null    float64\n",
            " 6   Ca      199 non-null    float64\n",
            " 7   Ba      195 non-null    float64\n",
            " 8   Fe      195 non-null    float64\n",
            " 9   Class   201 non-null    object \n",
            "dtypes: float64(9), object(1)\n",
            "memory usage: 16.8+ KB\n"
          ],
          "name": "stdout"
        }
      ]
    },
    {
      "cell_type": "code",
      "metadata": {
        "colab": {
          "base_uri": "https://localhost:8080/",
          "height": 297
        },
        "id": "GrVxc7vrs3FL",
        "outputId": "a6f004ed-1e64-4bc8-bd27-718c7659ac8e"
      },
      "source": [
        "data.describe()"
      ],
      "execution_count": null,
      "outputs": [
        {
          "output_type": "execute_result",
          "data": {
            "text/html": [
              "<div>\n",
              "<style scoped>\n",
              "    .dataframe tbody tr th:only-of-type {\n",
              "        vertical-align: middle;\n",
              "    }\n",
              "\n",
              "    .dataframe tbody tr th {\n",
              "        vertical-align: top;\n",
              "    }\n",
              "\n",
              "    .dataframe thead th {\n",
              "        text-align: right;\n",
              "    }\n",
              "</style>\n",
              "<table border=\"1\" class=\"dataframe\">\n",
              "  <thead>\n",
              "    <tr style=\"text-align: right;\">\n",
              "      <th></th>\n",
              "      <th>RI</th>\n",
              "      <th>Na</th>\n",
              "      <th>Mg</th>\n",
              "      <th>Al</th>\n",
              "      <th>Si</th>\n",
              "      <th>K</th>\n",
              "      <th>Ca</th>\n",
              "      <th>Ba</th>\n",
              "      <th>Fe</th>\n",
              "    </tr>\n",
              "  </thead>\n",
              "  <tbody>\n",
              "    <tr>\n",
              "      <th>count</th>\n",
              "      <td>201.000000</td>\n",
              "      <td>201.000000</td>\n",
              "      <td>197.000000</td>\n",
              "      <td>199.000000</td>\n",
              "      <td>195.000000</td>\n",
              "      <td>201.000000</td>\n",
              "      <td>199.000000</td>\n",
              "      <td>195.000000</td>\n",
              "      <td>195.000000</td>\n",
              "    </tr>\n",
              "    <tr>\n",
              "      <th>mean</th>\n",
              "      <td>1.518391</td>\n",
              "      <td>13.406716</td>\n",
              "      <td>2.725838</td>\n",
              "      <td>1.454824</td>\n",
              "      <td>72.662103</td>\n",
              "      <td>0.501990</td>\n",
              "      <td>8.974322</td>\n",
              "      <td>0.175641</td>\n",
              "      <td>0.057231</td>\n",
              "    </tr>\n",
              "    <tr>\n",
              "      <th>std</th>\n",
              "      <td>0.003108</td>\n",
              "      <td>0.802403</td>\n",
              "      <td>1.411588</td>\n",
              "      <td>0.509481</td>\n",
              "      <td>0.744163</td>\n",
              "      <td>0.669834</td>\n",
              "      <td>1.438506</td>\n",
              "      <td>0.499750</td>\n",
              "      <td>0.097782</td>\n",
              "    </tr>\n",
              "    <tr>\n",
              "      <th>min</th>\n",
              "      <td>1.511150</td>\n",
              "      <td>11.020000</td>\n",
              "      <td>0.000000</td>\n",
              "      <td>0.290000</td>\n",
              "      <td>69.810000</td>\n",
              "      <td>0.000000</td>\n",
              "      <td>5.430000</td>\n",
              "      <td>0.000000</td>\n",
              "      <td>0.000000</td>\n",
              "    </tr>\n",
              "    <tr>\n",
              "      <th>25%</th>\n",
              "      <td>1.516520</td>\n",
              "      <td>12.930000</td>\n",
              "      <td>2.240000</td>\n",
              "      <td>1.190000</td>\n",
              "      <td>72.270000</td>\n",
              "      <td>0.130000</td>\n",
              "      <td>8.240000</td>\n",
              "      <td>0.000000</td>\n",
              "      <td>0.000000</td>\n",
              "    </tr>\n",
              "    <tr>\n",
              "      <th>50%</th>\n",
              "      <td>1.517680</td>\n",
              "      <td>13.270000</td>\n",
              "      <td>3.480000</td>\n",
              "      <td>1.380000</td>\n",
              "      <td>72.790000</td>\n",
              "      <td>0.550000</td>\n",
              "      <td>8.600000</td>\n",
              "      <td>0.000000</td>\n",
              "      <td>0.000000</td>\n",
              "    </tr>\n",
              "    <tr>\n",
              "      <th>75%</th>\n",
              "      <td>1.519180</td>\n",
              "      <td>13.800000</td>\n",
              "      <td>3.610000</td>\n",
              "      <td>1.635000</td>\n",
              "      <td>73.080000</td>\n",
              "      <td>0.610000</td>\n",
              "      <td>9.205000</td>\n",
              "      <td>0.000000</td>\n",
              "      <td>0.100000</td>\n",
              "    </tr>\n",
              "    <tr>\n",
              "      <th>max</th>\n",
              "      <td>1.533930</td>\n",
              "      <td>17.380000</td>\n",
              "      <td>4.490000</td>\n",
              "      <td>3.500000</td>\n",
              "      <td>75.410000</td>\n",
              "      <td>6.210000</td>\n",
              "      <td>16.190000</td>\n",
              "      <td>3.150000</td>\n",
              "      <td>0.510000</td>\n",
              "    </tr>\n",
              "  </tbody>\n",
              "</table>\n",
              "</div>"
            ],
            "text/plain": [
              "               RI          Na          Mg  ...          Ca          Ba          Fe\n",
              "count  201.000000  201.000000  197.000000  ...  199.000000  195.000000  195.000000\n",
              "mean     1.518391   13.406716    2.725838  ...    8.974322    0.175641    0.057231\n",
              "std      0.003108    0.802403    1.411588  ...    1.438506    0.499750    0.097782\n",
              "min      1.511150   11.020000    0.000000  ...    5.430000    0.000000    0.000000\n",
              "25%      1.516520   12.930000    2.240000  ...    8.240000    0.000000    0.000000\n",
              "50%      1.517680   13.270000    3.480000  ...    8.600000    0.000000    0.000000\n",
              "75%      1.519180   13.800000    3.610000  ...    9.205000    0.000000    0.100000\n",
              "max      1.533930   17.380000    4.490000  ...   16.190000    3.150000    0.510000\n",
              "\n",
              "[8 rows x 9 columns]"
            ]
          },
          "metadata": {
            "tags": []
          },
          "execution_count": 27
        }
      ]
    },
    {
      "cell_type": "code",
      "metadata": {
        "colab": {
          "base_uri": "https://localhost:8080/",
          "height": 255
        },
        "id": "1N_J9OgKs8nj",
        "outputId": "8f8605b9-9639-41e1-f5d7-af3f98afbc84"
      },
      "source": [
        "print('_______________________')\n",
        "display(data['Class'].describe())\n",
        "print('_______________________')\n",
        "display(data['Class'].value_counts())"
      ],
      "execution_count": null,
      "outputs": [
        {
          "output_type": "stream",
          "text": [
            "_______________________\n"
          ],
          "name": "stdout"
        },
        {
          "output_type": "display_data",
          "data": {
            "text/plain": [
              "count                    201\n",
              "unique                     6\n",
              "top       building_non_float\n",
              "freq                      71\n",
              "Name: Class, dtype: object"
            ]
          },
          "metadata": {
            "tags": []
          }
        },
        {
          "output_type": "stream",
          "text": [
            "_______________________\n"
          ],
          "name": "stdout"
        },
        {
          "output_type": "display_data",
          "data": {
            "text/plain": [
              "building_non_float    71\n",
              "building_float        64\n",
              "headlamps             27\n",
              "vehicle_float         17\n",
              "containers            13\n",
              "tableware              9\n",
              "Name: Class, dtype: int64"
            ]
          },
          "metadata": {
            "tags": []
          }
        }
      ]
    },
    {
      "cell_type": "markdown",
      "metadata": {
        "id": "d3_e93kL5nQn"
      },
      "source": [
        "# Git"
      ]
    },
    {
      "cell_type": "code",
      "metadata": {
        "colab": {
          "base_uri": "https://localhost:8080/"
        },
        "id": "RtDCP7s2s_8J",
        "outputId": "0dd2e4d0-55b5-4940-b88a-442f8a75e940"
      },
      "source": [
        "!git init"
      ],
      "execution_count": null,
      "outputs": [
        {
          "output_type": "stream",
          "text": [
            "Initialized empty Git repository in /content/.git/\n"
          ],
          "name": "stdout"
        }
      ]
    },
    {
      "cell_type": "code",
      "metadata": {
        "id": "KcK7YqbHtEaY"
      },
      "source": [
        "!git config --global user.email bryukhanova.polina@gmail.ru\n",
        "!git config --global user.name Mary"
      ],
      "execution_count": null,
      "outputs": []
    },
    {
      "cell_type": "code",
      "metadata": {
        "colab": {
          "base_uri": "https://localhost:8080/"
        },
        "id": "EomdpsmEtNAp",
        "outputId": "f4cf0d4d-37ad-4c01-8b19-14ef1e4a5829"
      },
      "source": [
        "!git status"
      ],
      "execution_count": null,
      "outputs": [
        {
          "output_type": "stream",
          "text": [
            "On branch master\n",
            "\n",
            "No commits yet\n",
            "\n",
            "Untracked files:\n",
            "  (use \"git add <file>...\" to include in what will be committed)\n",
            "\n",
            "\t\u001b[31m.config/\u001b[m\n",
            "\t\u001b[31msample_data/\u001b[m\n",
            "\n",
            "nothing added to commit but untracked files present (use \"git add\" to track)\n"
          ],
          "name": "stdout"
        }
      ]
    },
    {
      "cell_type": "code",
      "metadata": {
        "id": "1oYLR1PptY-s",
        "colab": {
          "base_uri": "https://localhost:8080/"
        },
        "outputId": "f8e708d6-ef83-427c-ca16-c1874256f2ce"
      },
      "source": [
        "from google.colab import drive\n",
        "drive.mount('/content/PR3')"
      ],
      "execution_count": null,
      "outputs": [
        {
          "output_type": "stream",
          "text": [
            "Mounted at /content/PR3\n"
          ],
          "name": "stdout"
        }
      ]
    },
    {
      "cell_type": "markdown",
      "metadata": {
        "id": "a8rKHuq86C69"
      },
      "source": [
        "# ..."
      ]
    },
    {
      "cell_type": "code",
      "metadata": {
        "id": "Eaux19FsuvQT",
        "colab": {
          "base_uri": "https://localhost:8080/"
        },
        "outputId": "c030d16e-58d5-45f2-ac89-6b4e27896c1d"
      },
      "source": [
        "data['Al'].isna().sum()"
      ],
      "execution_count": null,
      "outputs": [
        {
          "output_type": "execute_result",
          "data": {
            "text/plain": [
              "15"
            ]
          },
          "metadata": {
            "tags": []
          },
          "execution_count": 33
        }
      ]
    },
    {
      "cell_type": "code",
      "metadata": {
        "id": "Fts13I6nuy6E",
        "colab": {
          "base_uri": "https://localhost:8080/"
        },
        "outputId": "bc38c269-bb17-428a-eb9f-3425a5c144eb"
      },
      "source": [
        "for col in data.columns:\n",
        "  missing_values_counts = data[col].isna().sum()\n",
        "  percentage = 100*missing_values_counts/len(data[col])\n",
        "  print(\"Column\", col, \"contains\", missing_values_counts, \"NULL values(\", percentage, \"% ).\")"
      ],
      "execution_count": null,
      "outputs": [
        {
          "output_type": "stream",
          "text": [
            "Column RI contains 13 NULL values( 6.074766355140187 % ).\n",
            "Column Na contains 13 NULL values( 6.074766355140187 % ).\n",
            "Column Mg contains 17 NULL values( 7.94392523364486 % ).\n",
            "Column Al contains 15 NULL values( 7.009345794392523 % ).\n",
            "Column Si contains 19 NULL values( 8.878504672897197 % ).\n",
            "Column K contains 13 NULL values( 6.074766355140187 % ).\n",
            "Column Ca contains 15 NULL values( 7.009345794392523 % ).\n",
            "Column Ba contains 19 NULL values( 8.878504672897197 % ).\n",
            "Column Fe contains 19 NULL values( 8.878504672897197 % ).\n",
            "Column Class contains 13 NULL values( 6.074766355140187 % ).\n"
          ],
          "name": "stdout"
        }
      ]
    },
    {
      "cell_type": "code",
      "metadata": {
        "id": "67n5nwE0u3be"
      },
      "source": [
        "import matplotlib.pyplot as plt\n",
        "import seaborn as sns"
      ],
      "execution_count": null,
      "outputs": []
    },
    {
      "cell_type": "markdown",
      "metadata": {
        "id": "OMWGazmx6WKY"
      },
      "source": [
        "# Histograms"
      ]
    },
    {
      "cell_type": "code",
      "metadata": {
        "id": "Ig6mfQrSu5Lm",
        "colab": {
          "base_uri": "https://localhost:8080/",
          "height": 304
        },
        "outputId": "95da9cad-bf2b-41d8-f884-7f10f8172b8c"
      },
      "source": [
        "col='Fe'\n",
        "fig, ax = plt.subplots()\n",
        "ax.hist(data[col], bins=20)\n",
        "ax.set_xlabel(col, fontsize=16)\n",
        "ax.set_title(\"Гистограмма для  \" + str(col), fontsize=18)\n",
        "plt.show()"
      ],
      "execution_count": null,
      "outputs": [
        {
          "output_type": "display_data",
          "data": {
            "image/png": "[encoded data removed]",
            "text/plain": [
              "<Figure size 432x288 with 1 Axes>"
            ]
          },
          "metadata": {
            "tags": [],
            "needs_background": "light"
          }
        }
      ]
    },
    {
      "cell_type": "code",
      "metadata": {
        "id": "oGzbNgEEu-8g",
        "colab": {
          "base_uri": "https://localhost:8080/",
          "height": 287
        },
        "outputId": "270ea63f-5da9-4259-948d-2f47a30296b6"
      },
      "source": [
        "ax = data[col].plot(kind='hist')\n",
        "ax.set_xlabel(col, fontsize=16)\n",
        "plt.show()"
      ],
      "execution_count": null,
      "outputs": [
        {
          "output_type": "display_data",
          "data": {
            "image/png": "[encoded data removed]",
            "text/plain": [
              "<Figure size 432x288 with 1 Axes>"
            ]
          },
          "metadata": {
            "tags": [],
            "needs_background": "light"
          }
        }
      ]
    },
    {
      "cell_type": "code",
      "metadata": {
        "id": "tYpiyvzevCyV",
        "colab": {
          "base_uri": "https://localhost:8080/",
          "height": 280
        },
        "outputId": "a0203b83-bb7e-485b-c643-713ab6c6b059"
      },
      "source": [
        "sns.histplot(data=data, x=col, kde=True, stat='probability', bins=20)\n",
        "plt.show()"
      ],
      "execution_count": null,
      "outputs": [
        {
          "output_type": "display_data",
          "data": {
            "image/png": "[encoded data removed]",
            "text/plain": [
              "<Figure size 432x288 with 1 Axes>"
            ]
          },
          "metadata": {
            "tags": [],
            "needs_background": "light"
          }
        }
      ]
    },
    {
      "cell_type": "markdown",
      "metadata": {
        "id": "D619OIhQ6fWw"
      },
      "source": [
        "# Bar"
      ]
    },
    {
      "cell_type": "code",
      "metadata": {
        "id": "CVElsN0svE0F",
        "colab": {
          "base_uri": "https://localhost:8080/",
          "height": 467
        },
        "outputId": "9bc079d3-857f-4e6b-eb2e-6f5171b6e4b5"
      },
      "source": [
        "col='Class'\n",
        "\n",
        "fig, ax = plt.subplots(figsize=(12,6))\n",
        "\n",
        "ax.bar(data[col].value_counts().index.values, \n",
        "       data[col].value_counts().values)\n",
        "\n",
        "ax.set_xlabel(None, fontsize=16)\n",
        "ax.set_title('Barplot для '+str(col), fontsize=16)\n",
        "ax.tick_params(axis='x', which='major', \n",
        "               labelsize=14, rotation=35)\n",
        "\n",
        "plt.show()"
      ],
      "execution_count": null,
      "outputs": [
        {
          "output_type": "display_data",
          "data": {
            "image/png": "[encoded data removed]",
            "text/plain": [
              "<Figure size 864x432 with 1 Axes>"
            ]
          },
          "metadata": {
            "tags": [],
            "needs_background": "light"
          }
        }
      ]
    },
    {
      "cell_type": "markdown",
      "metadata": {
        "id": "BSWt5-rE6kfQ"
      },
      "source": [
        "# Boxplot"
      ]
    },
    {
      "cell_type": "code",
      "metadata": {
        "id": "dErBgd5ZvLMp",
        "colab": {
          "base_uri": "https://localhost:8080/",
          "height": 265
        },
        "outputId": "ca3b9a7e-c9f7-449e-bf60-782030f23594"
      },
      "source": [
        "col='Fe'\n",
        "\n",
        "fig, ax = plt.subplots()\n",
        "\n",
        "data1 = data[col][~np.isnan(data[col])].copy()\n",
        "\n",
        "ax.boxplot(data1, showmeans=True) \n",
        "\n",
        "plt.show()"
      ],
      "execution_count": null,
      "outputs": [
        {
          "output_type": "display_data",
          "data": {
            "image/png": "[encoded data removed]",
            "text/plain": [
              "<Figure size 432x288 with 1 Axes>"
            ]
          },
          "metadata": {
            "tags": [],
            "needs_background": "light"
          }
        }
      ]
    },
    {
      "cell_type": "code",
      "metadata": {
        "id": "vAII-w2MvNEG",
        "colab": {
          "base_uri": "https://localhost:8080/",
          "height": 265
        },
        "outputId": "8b39bc67-ebc4-4f42-bfdf-de6e83ca62ef"
      },
      "source": [
        "data[col].plot(kind='box')\n",
        "plt.show()"
      ],
      "execution_count": null,
      "outputs": [
        {
          "output_type": "display_data",
          "data": {
            "image/png": "[encoded data removed]",
            "text/plain": [
              "<Figure size 432x288 with 1 Axes>"
            ]
          },
          "metadata": {
            "tags": [],
            "needs_background": "light"
          }
        }
      ]
    },
    {
      "cell_type": "code",
      "metadata": {
        "id": "DVNqLgQyvP2j",
        "colab": {
          "base_uri": "https://localhost:8080/",
          "height": 319
        },
        "outputId": "87da12a9-3875-4d6e-b3aa-ceeed7689ceb"
      },
      "source": [
        "data.plot(kind='box')\n",
        "plt.show()"
      ],
      "execution_count": null,
      "outputs": [
        {
          "output_type": "stream",
          "text": [
            "/usr/local/lib/python3.7/dist-packages/numpy/core/_asarray.py:83: VisibleDeprecationWarning: Creating an ndarray from ragged nested sequences (which is a list-or-tuple of lists-or-tuples-or ndarrays with different lengths or shapes) is deprecated. If you meant to do this, you must specify 'dtype=object' when creating the ndarray\n",
            "  return array(a, dtype, copy=False, order=order)\n"
          ],
          "name": "stderr"
        },
        {
          "output_type": "display_data",
          "data": {
            "image/png": "[encoded data removed]",
            "text/plain": [
              "<Figure size 432x288 with 1 Axes>"
            ]
          },
          "metadata": {
            "tags": [],
            "needs_background": "light"
          }
        }
      ]
    },
    {
      "cell_type": "code",
      "metadata": {
        "id": "aQTchG83vTJz",
        "colab": {
          "base_uri": "https://localhost:8080/",
          "height": 265
        },
        "outputId": "472b9c1d-3bc4-4503-a044-8a54f29f2e17"
      },
      "source": [
        "sns.boxplot(data=data[data.columns.values[data.columns.values != \"Si\"]])\n",
        "plt.show()"
      ],
      "execution_count": null,
      "outputs": [
        {
          "output_type": "display_data",
          "data": {
            "image/png": "[encoded data removed]",
            "text/plain": [
              "<Figure size 432x288 with 1 Axes>"
            ]
          },
          "metadata": {
            "tags": [],
            "needs_background": "light"
          }
        }
      ]
    },
    {
      "cell_type": "code",
      "metadata": {
        "id": "IrHzXfnXvWfe",
        "colab": {
          "base_uri": "https://localhost:8080/"
        },
        "outputId": "7d00e14e-c693-4923-a880-39751e3dcc2e"
      },
      "source": [
        "data.columns.values[data.columns.values != \"Si\"]"
      ],
      "execution_count": null,
      "outputs": [
        {
          "output_type": "execute_result",
          "data": {
            "text/plain": [
              "array(['RI', 'Na', 'Mg', 'Al', 'K', 'Ca', 'Ba', 'Fe', 'Class'],\n",
              "      dtype=object)"
            ]
          },
          "metadata": {
            "tags": []
          },
          "execution_count": 44
        }
      ]
    },
    {
      "cell_type": "markdown",
      "metadata": {
        "id": "WTH60c5u67SC"
      },
      "source": [
        "# Scaling"
      ]
    },
    {
      "cell_type": "code",
      "metadata": {
        "id": "Jj_yo3wg6-4O"
      },
      "source": [
        "import sklearn.preprocessing as prepro"
      ],
      "execution_count": null,
      "outputs": []
    },
    {
      "cell_type": "code",
      "metadata": {
        "id": "Z3fDfiNt7Bbn"
      },
      "source": [
        "scaler1 = prepro.MinMaxScaler()\n",
        "data1 = scaler1.fit_transform(data[data.columns.values[data.columns.values!='Class']])\n",
        "data1 = pd.DataFrame(data1)"
      ],
      "execution_count": null,
      "outputs": []
    },
    {
      "cell_type": "code",
      "metadata": {
        "colab": {
          "base_uri": "https://localhost:8080/",
          "height": 265
        },
        "id": "VIL23jSQ7ElL",
        "outputId": "e5fc8e62-43aa-4702-d16f-1cb0e0bc41c7"
      },
      "source": [
        "sns.boxplot(data=data1)\n",
        "plt.show()"
      ],
      "execution_count": null,
      "outputs": [
        {
          "output_type": "display_data",
          "data": {
            "image/png": "[encoded data removed]",
            "text/plain": [
              "<Figure size 432x288 with 1 Axes>"
            ]
          },
          "metadata": {
            "tags": [],
            "needs_background": "light"
          }
        }
      ]
    },
    {
      "cell_type": "code",
      "metadata": {
        "colab": {
          "base_uri": "https://localhost:8080/",
          "height": 319
        },
        "id": "ydDC2U9Q7GuV",
        "outputId": "f4909808-d4de-4f7e-c909-492c1c90f239"
      },
      "source": [
        "data1.plot(kind='box')\n",
        "plt.show()"
      ],
      "execution_count": null,
      "outputs": [
        {
          "output_type": "stream",
          "text": [
            "/usr/local/lib/python3.7/dist-packages/numpy/core/_asarray.py:83: VisibleDeprecationWarning: Creating an ndarray from ragged nested sequences (which is a list-or-tuple of lists-or-tuples-or ndarrays with different lengths or shapes) is deprecated. If you meant to do this, you must specify 'dtype=object' when creating the ndarray\n",
            "  return array(a, dtype, copy=False, order=order)\n"
          ],
          "name": "stderr"
        },
        {
          "output_type": "display_data",
          "data": {
            "image/png": "[encoded data removed]",
            "text/plain": [
              "<Figure size 432x288 with 1 Axes>"
            ]
          },
          "metadata": {
            "tags": [],
            "needs_background": "light"
          }
        }
      ]
    },
    {
      "cell_type": "code",
      "metadata": {
        "id": "sLrKMRf37LJP"
      },
      "source": [
        "scaler2 = prepro.StandardScaler()\n",
        "data2 = scaler1.fit_transform(data[data.columns.values[data.columns.values!='Class']])\n",
        "data2 = pd.DataFrame(data2)"
      ],
      "execution_count": null,
      "outputs": []
    },
    {
      "cell_type": "code",
      "metadata": {
        "colab": {
          "base_uri": "https://localhost:8080/",
          "height": 265
        },
        "id": "t5p8GvPH7N4K",
        "outputId": "88a4118b-a90f-432d-e018-4c1e9e285423"
      },
      "source": [
        "sns.boxplot(data=data2)\n",
        "plt.show()"
      ],
      "execution_count": null,
      "outputs": [
        {
          "output_type": "display_data",
          "data": {
            "image/png": "[encoded data removed]",
            "text/plain": [
              "<Figure size 432x288 with 1 Axes>"
            ]
          },
          "metadata": {
            "tags": [],
            "needs_background": "light"
          }
        }
      ]
    },
    {
      "cell_type": "markdown",
      "metadata": {
        "id": "RqyKro0n7QsL"
      },
      "source": [
        "# Pairplot"
      ]
    },
    {
      "cell_type": "code",
      "metadata": {
        "id": "aOMhCQz77TZX"
      },
      "source": [
        "col1 = 'Mg'\n",
        "col2 = 'Fe'"
      ],
      "execution_count": null,
      "outputs": []
    },
    {
      "cell_type": "code",
      "metadata": {
        "colab": {
          "base_uri": "https://localhost:8080/",
          "height": 279
        },
        "id": "8zfcat0g7Wv7",
        "outputId": "3eedad44-d496-4e2d-df78-87ec48b3ebd7"
      },
      "source": [
        "fig, ax = plt.subplots()\n",
        " \n",
        "ax.scatter(data[col1], data[col2])\n",
        "ax.set_xlabel(col1)\n",
        "ax.set_ylabel(col2)\n",
        " \n",
        "plt.show()"
      ],
      "execution_count": null,
      "outputs": [
        {
          "output_type": "display_data",
          "data": {
            "image/png": "[encoded data removed]",
            "text/plain": [
              "<Figure size 432x288 with 1 Axes>"
            ]
          },
          "metadata": {
            "tags": [],
            "needs_background": "light"
          }
        }
      ]
    },
    {
      "cell_type": "markdown",
      "metadata": {
        "id": "pweU8vt_7a2G"
      },
      "source": [
        "# NaN"
      ]
    },
    {
      "cell_type": "code",
      "metadata": {
        "colab": {
          "base_uri": "https://localhost:8080/"
        },
        "id": "mkdeHhgm7X3n",
        "outputId": "bd46399b-7bb3-47e6-fb51-74972699f0dd"
      },
      "source": [
        "data.mean()"
      ],
      "execution_count": null,
      "outputs": [
        {
          "output_type": "execute_result",
          "data": {
            "text/plain": [
              "RI     1.518391\n",
              "Na    13.406716\n",
              "Mg     2.725838\n",
              "Al     1.454824\n",
              "Si    72.662103\n",
              "K      0.501990\n",
              "Ca     8.974322\n",
              "Ba     0.175641\n",
              "Fe     0.057231\n",
              "dtype: float64"
            ]
          },
          "metadata": {
            "tags": []
          },
          "execution_count": 53
        }
      ]
    },
    {
      "cell_type": "code",
      "metadata": {
        "colab": {
          "base_uri": "https://localhost:8080/"
        },
        "id": "gjBUm4eR7fAe",
        "outputId": "a7a1280c-ff11-4848-c92c-a9e74654cc88"
      },
      "source": [
        "data_fillna_mean = data.fillna(data.mean()).copy()\n",
        "data_fillna_mean.info()"
      ],
      "execution_count": null,
      "outputs": [
        {
          "output_type": "stream",
          "text": [
            "<class 'pandas.core.frame.DataFrame'>\n",
            "RangeIndex: 214 entries, 0 to 213\n",
            "Data columns (total 10 columns):\n",
            " #   Column  Non-Null Count  Dtype  \n",
            "---  ------  --------------  -----  \n",
            " 0   RI      214 non-null    float64\n",
            " 1   Na      214 non-null    float64\n",
            " 2   Mg      214 non-null    float64\n",
            " 3   Al      214 non-null    float64\n",
            " 4   Si      214 non-null    float64\n",
            " 5   K       214 non-null    float64\n",
            " 6   Ca      214 non-null    float64\n",
            " 7   Ba      214 non-null    float64\n",
            " 8   Fe      214 non-null    float64\n",
            " 9   Class   201 non-null    object \n",
            "dtypes: float64(9), object(1)\n",
            "memory usage: 16.8+ KB\n"
          ],
          "name": "stdout"
        }
      ]
    },
    {
      "cell_type": "code",
      "metadata": {
        "colab": {
          "base_uri": "https://localhost:8080/"
        },
        "id": "zUIlElCS7hhC",
        "outputId": "4e68b96d-e817-4026-ad44-898fc687b673"
      },
      "source": [
        "data['Class'].value_counts()"
      ],
      "execution_count": null,
      "outputs": [
        {
          "output_type": "execute_result",
          "data": {
            "text/plain": [
              "building_non_float    71\n",
              "building_float        64\n",
              "headlamps             27\n",
              "vehicle_float         17\n",
              "containers            13\n",
              "tableware              9\n",
              "Name: Class, dtype: int64"
            ]
          },
          "metadata": {
            "tags": []
          },
          "execution_count": 55
        }
      ]
    },
    {
      "cell_type": "code",
      "metadata": {
        "colab": {
          "base_uri": "https://localhost:8080/",
          "height": 35
        },
        "id": "7gHRWT0A7lTf",
        "outputId": "21f7081a-ba3d-479c-c5c1-bff9eab0c201"
      },
      "source": [
        "data['Class'].value_counts().index.values[0]"
      ],
      "execution_count": null,
      "outputs": [
        {
          "output_type": "execute_result",
          "data": {
            "application/vnd.google.colaboratory.intrinsic+json": {
              "type": "string"
            },
            "text/plain": [
              "'building_non_float'"
            ]
          },
          "metadata": {
            "tags": []
          },
          "execution_count": 56
        }
      ]
    },
    {
      "cell_type": "code",
      "metadata": {
        "colab": {
          "base_uri": "https://localhost:8080/"
        },
        "id": "7OhmL1Wu7olM",
        "outputId": "fd675407-a0d3-4653-9d8a-a463d2c48e8f"
      },
      "source": [
        "data['Class'].mode()"
      ],
      "execution_count": null,
      "outputs": [
        {
          "output_type": "execute_result",
          "data": {
            "text/plain": [
              "0    building_non_float\n",
              "dtype: object"
            ]
          },
          "metadata": {
            "tags": []
          },
          "execution_count": 57
        }
      ]
    },
    {
      "cell_type": "code",
      "metadata": {
        "colab": {
          "base_uri": "https://localhost:8080/"
        },
        "id": "hYTk4RiX7q-4",
        "outputId": "87df1546-6948-487d-9885-4bfabe467281"
      },
      "source": [
        "data_fillna_mean['Class'].fillna(data['Class'].value_counts().index.values[0], inplace = True)\n",
        "data_fillna_mean.info()"
      ],
      "execution_count": null,
      "outputs": [
        {
          "output_type": "stream",
          "text": [
            "<class 'pandas.core.frame.DataFrame'>\n",
            "RangeIndex: 214 entries, 0 to 213\n",
            "Data columns (total 10 columns):\n",
            " #   Column  Non-Null Count  Dtype  \n",
            "---  ------  --------------  -----  \n",
            " 0   RI      214 non-null    float64\n",
            " 1   Na      214 non-null    float64\n",
            " 2   Mg      214 non-null    float64\n",
            " 3   Al      214 non-null    float64\n",
            " 4   Si      214 non-null    float64\n",
            " 5   K       214 non-null    float64\n",
            " 6   Ca      214 non-null    float64\n",
            " 7   Ba      214 non-null    float64\n",
            " 8   Fe      214 non-null    float64\n",
            " 9   Class   214 non-null    object \n",
            "dtypes: float64(9), object(1)\n",
            "memory usage: 16.8+ KB\n"
          ],
          "name": "stdout"
        }
      ]
    },
    {
      "cell_type": "markdown",
      "metadata": {
        "id": "3AbAus4P7uj4"
      },
      "source": [
        "# PCA"
      ]
    },
    {
      "cell_type": "code",
      "metadata": {
        "id": "w0nH11xF7sMY"
      },
      "source": [
        "from sklearn.decomposition import PCA"
      ],
      "execution_count": null,
      "outputs": []
    },
    {
      "cell_type": "code",
      "metadata": {
        "colab": {
          "base_uri": "https://localhost:8080/"
        },
        "id": "0A1GdRFn71ns",
        "outputId": "80039bfe-0f30-45c2-d2f2-08f3b8fbfbeb"
      },
      "source": [
        "pca = PCA()\n",
        "pca.fit(data_fillna_mean[data_fillna_mean.columns.values [data_fillna_mean.columns.values  != 'Class']] )"
      ],
      "execution_count": null,
      "outputs": [
        {
          "output_type": "execute_result",
          "data": {
            "text/plain": [
              "PCA(copy=True, iterated_power='auto', n_components=None, random_state=None,\n",
              "    svd_solver='auto', tol=0.0, whiten=False)"
            ]
          },
          "metadata": {
            "tags": []
          },
          "execution_count": 60
        }
      ]
    },
    {
      "cell_type": "code",
      "metadata": {
        "colab": {
          "base_uri": "https://localhost:8080/"
        },
        "id": "srA1Q9Iu731E",
        "outputId": "ed9b1723-f852-482f-b07f-e56e00396c05"
      },
      "source": [
        "print(pca.explained_variance_ratio_*100)"
      ],
      "execution_count": null,
      "outputs": [
        {
          "output_type": "stream",
          "text": [
            "[4.35924973e+01 2.92634662e+01 1.11464141e+01 9.69868833e+00\n",
            " 3.15830703e+00 1.62433642e+00 1.37688901e+00 1.39376524e-01\n",
            " 2.51243314e-05]\n"
          ],
          "name": "stdout"
        }
      ]
    },
    {
      "cell_type": "code",
      "metadata": {
        "colab": {
          "base_uri": "https://localhost:8080/",
          "height": 265
        },
        "id": "GkPcyhdr76FJ",
        "outputId": "09f09263-2e66-4042-c013-336cb9784682"
      },
      "source": [
        "_, ax = plt.subplots()\n",
        "ax.plot(np.arange(1,10), pca.explained_variance_ratio_*100)\n",
        "plt.show()"
      ],
      "execution_count": null,
      "outputs": [
        {
          "output_type": "display_data",
          "data": {
            "image/png": "[encoded data removed]",
            "text/plain": [
              "<Figure size 432x288 with 1 Axes>"
            ]
          },
          "metadata": {
            "tags": [],
            "needs_background": "light"
          }
        }
      ]
    },
    {
      "cell_type": "code",
      "metadata": {
        "colab": {
          "base_uri": "https://localhost:8080/",
          "height": 204
        },
        "id": "jFZU0BS578jG",
        "outputId": "168d4ae5-4cd8-4e55-974b-8d5bcc2c94b8"
      },
      "source": [
        "pcaData=pd.DataFrame(\n",
        "    pca.transform(data_fillna_mean[data_fillna_mean.columns.values[data_fillna_mean.columns.values != 'Class']]))\n",
        "pcaNames=[]\n",
        "for i in range(9):\n",
        "  pcaNames.append('pc'+str(i+1))\n",
        "pcaData.columns=pcaNames\n",
        "pcaData.head()"
      ],
      "execution_count": null,
      "outputs": [
        {
          "output_type": "execute_result",
          "data": {
            "text/html": [
              "<div>\n",
              "<style scoped>\n",
              "    .dataframe tbody tr th:only-of-type {\n",
              "        vertical-align: middle;\n",
              "    }\n",
              "\n",
              "    .dataframe tbody tr th {\n",
              "        vertical-align: top;\n",
              "    }\n",
              "\n",
              "    .dataframe thead th {\n",
              "        text-align: right;\n",
              "    }\n",
              "</style>\n",
              "<table border=\"1\" class=\"dataframe\">\n",
              "  <thead>\n",
              "    <tr style=\"text-align: right;\">\n",
              "      <th></th>\n",
              "      <th>pc1</th>\n",
              "      <th>pc2</th>\n",
              "      <th>pc3</th>\n",
              "      <th>pc4</th>\n",
              "      <th>pc5</th>\n",
              "      <th>pc6</th>\n",
              "      <th>pc7</th>\n",
              "      <th>pc8</th>\n",
              "      <th>pc9</th>\n",
              "    </tr>\n",
              "  </thead>\n",
              "  <tbody>\n",
              "    <tr>\n",
              "      <th>0</th>\n",
              "      <td>-1.368757</td>\n",
              "      <td>1.142614</td>\n",
              "      <td>-1.018683</td>\n",
              "      <td>0.272129</td>\n",
              "      <td>0.197508</td>\n",
              "      <td>-0.091062</td>\n",
              "      <td>-0.086429</td>\n",
              "      <td>-0.069975</td>\n",
              "      <td>0.001037</td>\n",
              "    </tr>\n",
              "    <tr>\n",
              "      <th>1</th>\n",
              "      <td>-1.432784</td>\n",
              "      <td>-0.167711</td>\n",
              "      <td>-0.068918</td>\n",
              "      <td>-0.127024</td>\n",
              "      <td>-0.031426</td>\n",
              "      <td>-0.050470</td>\n",
              "      <td>-0.114618</td>\n",
              "      <td>0.003695</td>\n",
              "      <td>0.001001</td>\n",
              "    </tr>\n",
              "    <tr>\n",
              "      <th>2</th>\n",
              "      <td>-1.396082</td>\n",
              "      <td>-0.380075</td>\n",
              "      <td>-0.076024</td>\n",
              "      <td>-0.347559</td>\n",
              "      <td>0.112926</td>\n",
              "      <td>-0.083673</td>\n",
              "      <td>0.090277</td>\n",
              "      <td>0.013481</td>\n",
              "      <td>0.000020</td>\n",
              "    </tr>\n",
              "    <tr>\n",
              "      <th>3</th>\n",
              "      <td>-1.243182</td>\n",
              "      <td>0.221401</td>\n",
              "      <td>0.035147</td>\n",
              "      <td>0.019683</td>\n",
              "      <td>-0.007169</td>\n",
              "      <td>0.009726</td>\n",
              "      <td>-0.076803</td>\n",
              "      <td>-0.061272</td>\n",
              "      <td>0.000086</td>\n",
              "    </tr>\n",
              "    <tr>\n",
              "      <th>4</th>\n",
              "      <td>-1.303787</td>\n",
              "      <td>0.003131</td>\n",
              "      <td>0.184246</td>\n",
              "      <td>-0.363473</td>\n",
              "      <td>-0.122232</td>\n",
              "      <td>0.088750</td>\n",
              "      <td>0.044964</td>\n",
              "      <td>-0.049645</td>\n",
              "      <td>0.000655</td>\n",
              "    </tr>\n",
              "  </tbody>\n",
              "</table>\n",
              "</div>"
            ],
            "text/plain": [
              "        pc1       pc2       pc3  ...       pc7       pc8       pc9\n",
              "0 -1.368757  1.142614 -1.018683  ... -0.086429 -0.069975  0.001037\n",
              "1 -1.432784 -0.167711 -0.068918  ... -0.114618  0.003695  0.001001\n",
              "2 -1.396082 -0.380075 -0.076024  ...  0.090277  0.013481  0.000020\n",
              "3 -1.243182  0.221401  0.035147  ... -0.076803 -0.061272  0.000086\n",
              "4 -1.303787  0.003131  0.184246  ...  0.044964 -0.049645  0.000655\n",
              "\n",
              "[5 rows x 9 columns]"
            ]
          },
          "metadata": {
            "tags": []
          },
          "execution_count": 63
        }
      ]
    },
    {
      "cell_type": "code",
      "metadata": {
        "colab": {
          "base_uri": "https://localhost:8080/",
          "height": 497
        },
        "id": "sLeHhGD97-ic",
        "outputId": "99e376e8-e7f5-4a7e-dfb2-f65f85be119c"
      },
      "source": [
        "fig, ax = plt.subplots(figsize=(8,8))\n",
        "\n",
        "ax.scatter(pcaData['pc1'], pcaData['pc2'])\n",
        "ax.set_xlabel('pc1')\n",
        "ax.set_ylabel('pc2')\n",
        "\n",
        "plt.show()"
      ],
      "execution_count": null,
      "outputs": [
        {
          "output_type": "display_data",
          "data": {
            "image/png": "[encoded data removed]",
            "text/plain": [
              "<Figure size 576x576 with 1 Axes>"
            ]
          },
          "metadata": {
            "tags": [],
            "needs_background": "light"
          }
        }
      ]
    },
    {
      "cell_type": "code",
      "metadata": {
        "id": "vxaAbaRA8DAa"
      },
      "source": [
        "pcaData['Class'] = data_fillna_mean['Class'].copy()"
      ],
      "execution_count": null,
      "outputs": []
    },
    {
      "cell_type": "code",
      "metadata": {
        "colab": {
          "base_uri": "https://localhost:8080/",
          "height": 497
        },
        "id": "TeZtG4xB8F0R",
        "outputId": "df876fe9-38c2-4165-b288-5b0538cffa22"
      },
      "source": [
        "col1 = 'pc1'\n",
        "col2 = 'pc2'\n",
        "\n",
        "fig, ax = plt.subplots(figsize=(8,8))\n",
        "\n",
        "for glassType in pcaData['Class'].value_counts().index.values:\n",
        "  ax.scatter(pcaData[col1][ pcaData['Class']==glassType ],\n",
        "             pcaData[col2][ pcaData['Class']==glassType ],\n",
        "             label=glassType)\n",
        "\n",
        "ax.set_xlabel(col1)\n",
        "ax.set_ylabel(col2)\n",
        "ax.legend()\n",
        "\n",
        "plt.show()"
      ],
      "execution_count": null,
      "outputs": [
        {
          "output_type": "display_data",
          "data": {
            "image/png": "[encoded data removed]",
            "text/plain": [
              "<Figure size 576x576 with 1 Axes>"
            ]
          },
          "metadata": {
            "tags": [],
            "needs_background": "light"
          }
        }
      ]
    },
    {
      "cell_type": "code",
      "metadata": {
        "colab": {
          "base_uri": "https://localhost:8080/",
          "height": 466
        },
        "id": "bOS9m7138KQV",
        "outputId": "e27b349e-43a1-4381-8612-daa0b0ec2c7b"
      },
      "source": [
        "fig = plt.figure(figsize=(8,8))\n",
        "ax = plt.axes(projection='3d')\n",
        "\n",
        "ax.scatter(pcaData['pc1'], pcaData['pc2'], pcaData['pc3'])\n",
        "ax.set_xlabel('pc1', fontsize=16)\n",
        "ax.set_ylabel('pc2', fontsize=16)\n",
        "ax.set_zlabel('pc3', fontsize=16)\n",
        "\n",
        "plt.show()"
      ],
      "execution_count": null,
      "outputs": [
        {
          "output_type": "display_data",
          "data": {
            "image/png": "[encoded data removed]",
            "text/plain": [
              "<Figure size 576x576 with 1 Axes>"
            ]
          },
          "metadata": {
            "tags": [],
            "needs_background": "light"
          }
        }
      ]
    },
    {
      "cell_type": "code",
      "metadata": {
        "colab": {
          "base_uri": "https://localhost:8080/",
          "height": 466
        },
        "id": "Io0NVpSi8L3j",
        "outputId": "a0543391-4eb6-41cd-e8dd-24b8f7377dec"
      },
      "source": [
        "col1 = 'pc1'\n",
        "col2 = 'pc2'\n",
        "\n",
        "fig = plt.figure(figsize=(8,8))\n",
        "ax = plt.axes(projection='3d')\n",
        "\n",
        "for glassType in pcaData['Class'].value_counts().index.values:\n",
        "  ax.scatter(pcaData['pc1'][ pcaData['Class']==glassType ], \n",
        "             pcaData['pc2'][ pcaData['Class']==glassType ], \n",
        "             pcaData['pc3'][ pcaData['Class']==glassType ],\n",
        "             label=glassType)\n",
        "\n",
        "ax.set_xlabel('pc1', fontsize=16)\n",
        "ax.set_ylabel('pc2', fontsize=16)\n",
        "ax.set_zlabel('pc3', fontsize=16)\n",
        "ax.legend()\n",
        "\n",
        "plt.show()"
      ],
      "execution_count": null,
      "outputs": [
        {
          "output_type": "display_data",
          "data": {
            "image/png": "[encoded data removed]",
            "text/plain": [
              "<Figure size 576x576 with 1 Axes>"
            ]
          },
          "metadata": {
            "tags": [],
            "needs_background": "light"
          }
        }
      ]
    },
    {
      "cell_type": "markdown",
      "metadata": {
        "id": "yeDGMjJk8VBJ"
      },
      "source": [
        "# Сorrelation"
      ]
    },
    {
      "cell_type": "code",
      "metadata": {
        "colab": {
          "base_uri": "https://localhost:8080/",
          "height": 328
        },
        "id": "D3UhrO8D8QGQ",
        "outputId": "d3fef99a-d4a2-4fb0-8d73-8ae811d26782"
      },
      "source": [
        "corr = data_fillna_mean.corr()\n",
        "corr"
      ],
      "execution_count": null,
      "outputs": [
        {
          "output_type": "execute_result",
          "data": {
            "text/html": [
              "<div>\n",
              "<style scoped>\n",
              "    .dataframe tbody tr th:only-of-type {\n",
              "        vertical-align: middle;\n",
              "    }\n",
              "\n",
              "    .dataframe tbody tr th {\n",
              "        vertical-align: top;\n",
              "    }\n",
              "\n",
              "    .dataframe thead th {\n",
              "        text-align: right;\n",
              "    }\n",
              "</style>\n",
              "<table border=\"1\" class=\"dataframe\">\n",
              "  <thead>\n",
              "    <tr style=\"text-align: right;\">\n",
              "      <th></th>\n",
              "      <th>RI</th>\n",
              "      <th>Na</th>\n",
              "      <th>Mg</th>\n",
              "      <th>Al</th>\n",
              "      <th>Si</th>\n",
              "      <th>K</th>\n",
              "      <th>Ca</th>\n",
              "      <th>Ba</th>\n",
              "      <th>Fe</th>\n",
              "    </tr>\n",
              "  </thead>\n",
              "  <tbody>\n",
              "    <tr>\n",
              "      <th>RI</th>\n",
              "      <td>1.000000</td>\n",
              "      <td>-0.145045</td>\n",
              "      <td>-0.037863</td>\n",
              "      <td>-0.399286</td>\n",
              "      <td>-0.478877</td>\n",
              "      <td>-0.285650</td>\n",
              "      <td>0.809421</td>\n",
              "      <td>-0.003636</td>\n",
              "      <td>0.140727</td>\n",
              "    </tr>\n",
              "    <tr>\n",
              "      <th>Na</th>\n",
              "      <td>-0.145045</td>\n",
              "      <td>1.000000</td>\n",
              "      <td>-0.314101</td>\n",
              "      <td>0.164294</td>\n",
              "      <td>-0.136085</td>\n",
              "      <td>-0.246574</td>\n",
              "      <td>-0.207897</td>\n",
              "      <td>0.338586</td>\n",
              "      <td>-0.208552</td>\n",
              "    </tr>\n",
              "    <tr>\n",
              "      <th>Mg</th>\n",
              "      <td>-0.037863</td>\n",
              "      <td>-0.314101</td>\n",
              "      <td>1.000000</td>\n",
              "      <td>-0.526300</td>\n",
              "      <td>-0.166374</td>\n",
              "      <td>-0.041741</td>\n",
              "      <td>-0.314575</td>\n",
              "      <td>-0.498266</td>\n",
              "      <td>0.067868</td>\n",
              "    </tr>\n",
              "    <tr>\n",
              "      <th>Al</th>\n",
              "      <td>-0.399286</td>\n",
              "      <td>0.164294</td>\n",
              "      <td>-0.526300</td>\n",
              "      <td>1.000000</td>\n",
              "      <td>0.074682</td>\n",
              "      <td>0.340256</td>\n",
              "      <td>-0.236636</td>\n",
              "      <td>0.486398</td>\n",
              "      <td>-0.094451</td>\n",
              "    </tr>\n",
              "    <tr>\n",
              "      <th>Si</th>\n",
              "      <td>-0.478877</td>\n",
              "      <td>-0.136085</td>\n",
              "      <td>-0.166374</td>\n",
              "      <td>0.074682</td>\n",
              "      <td>1.000000</td>\n",
              "      <td>-0.180183</td>\n",
              "      <td>-0.208579</td>\n",
              "      <td>0.006275</td>\n",
              "      <td>-0.095817</td>\n",
              "    </tr>\n",
              "    <tr>\n",
              "      <th>K</th>\n",
              "      <td>-0.285650</td>\n",
              "      <td>-0.246574</td>\n",
              "      <td>-0.041741</td>\n",
              "      <td>0.340256</td>\n",
              "      <td>-0.180183</td>\n",
              "      <td>1.000000</td>\n",
              "      <td>-0.307162</td>\n",
              "      <td>-0.032346</td>\n",
              "      <td>-0.019900</td>\n",
              "    </tr>\n",
              "    <tr>\n",
              "      <th>Ca</th>\n",
              "      <td>0.809421</td>\n",
              "      <td>-0.207897</td>\n",
              "      <td>-0.314575</td>\n",
              "      <td>-0.236636</td>\n",
              "      <td>-0.208579</td>\n",
              "      <td>-0.307162</td>\n",
              "      <td>1.000000</td>\n",
              "      <td>-0.075447</td>\n",
              "      <td>0.138637</td>\n",
              "    </tr>\n",
              "    <tr>\n",
              "      <th>Ba</th>\n",
              "      <td>-0.003636</td>\n",
              "      <td>0.338586</td>\n",
              "      <td>-0.498266</td>\n",
              "      <td>0.486398</td>\n",
              "      <td>0.006275</td>\n",
              "      <td>-0.032346</td>\n",
              "      <td>-0.075447</td>\n",
              "      <td>1.000000</td>\n",
              "      <td>-0.041036</td>\n",
              "    </tr>\n",
              "    <tr>\n",
              "      <th>Fe</th>\n",
              "      <td>0.140727</td>\n",
              "      <td>-0.208552</td>\n",
              "      <td>0.067868</td>\n",
              "      <td>-0.094451</td>\n",
              "      <td>-0.095817</td>\n",
              "      <td>-0.019900</td>\n",
              "      <td>0.138637</td>\n",
              "      <td>-0.041036</td>\n",
              "      <td>1.000000</td>\n",
              "    </tr>\n",
              "  </tbody>\n",
              "</table>\n",
              "</div>"
            ],
            "text/plain": [
              "          RI        Na        Mg  ...        Ca        Ba        Fe\n",
              "RI  1.000000 -0.145045 -0.037863  ...  0.809421 -0.003636  0.140727\n",
              "Na -0.145045  1.000000 -0.314101  ... -0.207897  0.338586 -0.208552\n",
              "Mg -0.037863 -0.314101  1.000000  ... -0.314575 -0.498266  0.067868\n",
              "Al -0.399286  0.164294 -0.526300  ... -0.236636  0.486398 -0.094451\n",
              "Si -0.478877 -0.136085 -0.166374  ... -0.208579  0.006275 -0.095817\n",
              "K  -0.285650 -0.246574 -0.041741  ... -0.307162 -0.032346 -0.019900\n",
              "Ca  0.809421 -0.207897 -0.314575  ...  1.000000 -0.075447  0.138637\n",
              "Ba -0.003636  0.338586 -0.498266  ... -0.075447  1.000000 -0.041036\n",
              "Fe  0.140727 -0.208552  0.067868  ...  0.138637 -0.041036  1.000000\n",
              "\n",
              "[9 rows x 9 columns]"
            ]
          },
          "metadata": {
            "tags": []
          },
          "execution_count": 69
        }
      ]
    },
    {
      "cell_type": "code",
      "metadata": {
        "colab": {
          "base_uri": "https://localhost:8080/",
          "height": 633
        },
        "id": "1YD2SjyO8exZ",
        "outputId": "ba154652-6cde-4732-e5ed-9c06dbfa0586"
      },
      "source": [
        "plt.figure(figsize=(12,10 ))\n",
        "ax = sns.heatmap(corr, annot=True, vmax=1, vmin=-1, cmap='gist_rainbow')\n",
        "ax.set_title('Корреляции вещественных переменных', fontsize=25)\n",
        "plt.show"
      ],
      "execution_count": null,
      "outputs": [
        {
          "output_type": "execute_result",
          "data": {
            "text/plain": [
              "<function matplotlib.pyplot.show>"
            ]
          },
          "metadata": {
            "tags": []
          },
          "execution_count": 70
        },
        {
          "output_type": "display_data",
          "data": {
            "image/png": "[encoded data removed]",
            "text/plain": [
              "<Figure size 864x720 with 2 Axes>"
            ]
          },
          "metadata": {
            "tags": [],
            "needs_background": "light"
          }
        }
      ]
    },
    {
      "cell_type": "code",
      "metadata": {
        "colab": {
          "base_uri": "https://localhost:8080/",
          "height": 633
        },
        "id": "V-xKbXuP8gye",
        "outputId": "fd2e0016-57fa-491d-b354-41e9db2a8da6"
      },
      "source": [
        "plt.figure (figsize=(12,10))\n",
        "ax = sns.heatmap (corr[(corr >= 0.75)|(corr <=-0.75)], annot=True, vmax=1, vmin=-1, cmap='gist_rainbow')\n",
        "ax.set_title('Сильная корреляция', fontsize=25)\n",
        "plt.show"
      ],
      "execution_count": null,
      "outputs": [
        {
          "output_type": "execute_result",
          "data": {
            "text/plain": [
              "<function matplotlib.pyplot.show>"
            ]
          },
          "metadata": {
            "tags": []
          },
          "execution_count": 71
        },
        {
          "output_type": "display_data",
          "data": {
            "image/png": "[encoded data removed]",
            "text/plain": [
              "<Figure size 864x720 with 2 Axes>"
            ]
          },
          "metadata": {
            "tags": [],
            "needs_background": "light"
          }
        }
      ]
    },
    {
      "cell_type": "markdown",
      "metadata": {
        "id": "sTMH6z8p8vkT"
      },
      "source": [
        "# Feature importance"
      ]
    },
    {
      "cell_type": "code",
      "metadata": {
        "id": "vE6dDCdN8xj3"
      },
      "source": [
        "import sklearn.preprocessing as prepro\n",
        "from sklearn.ensemble import ExtraTreesClassifier"
      ],
      "execution_count": null,
      "outputs": []
    },
    {
      "cell_type": "code",
      "metadata": {
        "id": "LDjTVDA680wV"
      },
      "source": [
        "forest = ExtraTreesClassifier(n_estimators=100)"
      ],
      "execution_count": null,
      "outputs": []
    },
    {
      "cell_type": "code",
      "metadata": {
        "colab": {
          "base_uri": "https://localhost:8080/"
        },
        "id": "add_LwEJ82W2",
        "outputId": "32e07257-80c6-469e-b1e1-2c6201438822"
      },
      "source": [
        "#  forest.fit(x,y)\n",
        "forest.fit(\n",
        "    data_fillna_mean[ data_fillna_mean.columns.values[data_fillna_mean.columns.values!='Class'] ], \n",
        "    data_fillna_mean['Class']\n",
        "    )"
      ],
      "execution_count": null,
      "outputs": [
        {
          "output_type": "execute_result",
          "data": {
            "text/plain": [
              "ExtraTreesClassifier(bootstrap=False, ccp_alpha=0.0, class_weight=None,\n",
              "                     criterion='gini', max_depth=None, max_features='auto',\n",
              "                     max_leaf_nodes=None, max_samples=None,\n",
              "                     min_impurity_decrease=0.0, min_impurity_split=None,\n",
              "                     min_samples_leaf=1, min_samples_split=2,\n",
              "                     min_weight_fraction_leaf=0.0, n_estimators=100,\n",
              "                     n_jobs=None, oob_score=False, random_state=None, verbose=0,\n",
              "                     warm_start=False)"
            ]
          },
          "metadata": {
            "tags": []
          },
          "execution_count": 74
        }
      ]
    },
    {
      "cell_type": "code",
      "metadata": {
        "colab": {
          "base_uri": "https://localhost:8080/"
        },
        "id": "d9Sb_c9c83lP",
        "outputId": "829b5cb1-2e93-4b43-994a-697944a4ff62"
      },
      "source": [
        "importance = forest.feature_importances_\n",
        "importance"
      ],
      "execution_count": null,
      "outputs": [
        {
          "output_type": "execute_result",
          "data": {
            "text/plain": [
              "array([0.12816388, 0.10978493, 0.15711384, 0.14220226, 0.09471083,\n",
              "       0.1033543 , 0.11997946, 0.07841623, 0.06627428])"
            ]
          },
          "metadata": {
            "tags": []
          },
          "execution_count": 75
        }
      ]
    },
    {
      "cell_type": "code",
      "metadata": {
        "colab": {
          "base_uri": "https://localhost:8080/"
        },
        "id": "LkNjU59a85_s",
        "outputId": "578024f2-0063-4943-8744-03f797790fe1"
      },
      "source": [
        "np.sort(importance)[:: -1]"
      ],
      "execution_count": null,
      "outputs": [
        {
          "output_type": "execute_result",
          "data": {
            "text/plain": [
              "array([0.15711384, 0.14220226, 0.12816388, 0.11997946, 0.10978493,\n",
              "       0.1033543 , 0.09471083, 0.07841623, 0.06627428])"
            ]
          },
          "metadata": {
            "tags": []
          },
          "execution_count": 76
        }
      ]
    },
    {
      "cell_type": "code",
      "metadata": {
        "colab": {
          "base_uri": "https://localhost:8080/"
        },
        "id": "sYkQJM4i874k",
        "outputId": "cf39d6bf-5c34-4335-e3d1-dd8291202491"
      },
      "source": [
        "indices = np.argsort(importance)[::-1]\n",
        "indices"
      ],
      "execution_count": null,
      "outputs": [
        {
          "output_type": "execute_result",
          "data": {
            "text/plain": [
              "array([2, 3, 0, 6, 1, 5, 4, 7, 8])"
            ]
          },
          "metadata": {
            "tags": []
          },
          "execution_count": 77
        }
      ]
    },
    {
      "cell_type": "code",
      "metadata": {
        "colab": {
          "base_uri": "https://localhost:8080/"
        },
        "id": "3bn9dqCt8-XG",
        "outputId": "37d96322-7f23-4783-9e65-e218e6346ed6"
      },
      "source": [
        "# Print the feature ranking\n",
        "print(\"Feature ranking:\")\n",
        "\n",
        "for f in range(9):\n",
        "    print(\"%d. feature %s (%f)\" % (f + 1, data_fillna_mean.columns.values[indices[f]], importance[indices[f]]))"
      ],
      "execution_count": null,
      "outputs": [
        {
          "output_type": "stream",
          "text": [
            "Feature ranking:\n",
            "1. feature Mg (0.157114)\n",
            "2. feature Al (0.142202)\n",
            "3. feature RI (0.128164)\n",
            "4. feature Ca (0.119979)\n",
            "5. feature Na (0.109785)\n",
            "6. feature K (0.103354)\n",
            "7. feature Si (0.094711)\n",
            "8. feature Ba (0.078416)\n",
            "9. feature Fe (0.066274)\n"
          ],
          "name": "stdout"
        }
      ]
    },
    {
      "cell_type": "code",
      "metadata": {
        "colab": {
          "base_uri": "https://localhost:8080/"
        },
        "id": "XXZTK4HO9AwN",
        "outputId": "be43c5bb-8b55-466b-c90b-b80d3db942c8"
      },
      "source": [
        "std = np.std( [tree.feature_importances_ for tree in forest.estimators_], axis=0)\n",
        "std"
      ],
      "execution_count": null,
      "outputs": [
        {
          "output_type": "execute_result",
          "data": {
            "text/plain": [
              "array([0.03588194, 0.03925646, 0.04393233, 0.04519854, 0.02892315,\n",
              "       0.03071742, 0.03212733, 0.03791867, 0.01980699])"
            ]
          },
          "metadata": {
            "tags": []
          },
          "execution_count": 79
        }
      ]
    },
    {
      "cell_type": "code",
      "metadata": {
        "colab": {
          "base_uri": "https://localhost:8080/",
          "height": 336
        },
        "id": "yqeOiCOb9DFY",
        "outputId": "8e86f189-2975-4830-d933-663195f4b1c6"
      },
      "source": [
        "fig, ax = plt.subplots(figsize=(10,5))\n",
        "ax.set_title('Столбцы')\n",
        "ax.bar(data_fillna_mean.columns.values[indices], importance[indices], color=\"b\", yerr=std[indices], align=\"center\")\n",
        "\n",
        "plt.show()"
      ],
      "execution_count": null,
      "outputs": [
        {
          "output_type": "display_data",
          "data": {
            "image/png": "[encoded data removed]",
            "text/plain": [
              "<Figure size 720x360 with 1 Axes>"
            ]
          },
          "metadata": {
            "tags": [],
            "needs_background": "light"
          }
        }
      ]
    },
    {
      "cell_type": "markdown",
      "metadata": {
        "id": "Eifj1aYA9TE-"
      },
      "source": [
        "# Task"
      ]
    },
    {
      "cell_type": "markdown",
      "metadata": {
        "id": "PGHg1gaR9YaG"
      },
      "source": [
        "1) сделать виджет для выбора переменной. Для выбранной переменной строиться гистограмма, если переменная числовая или столбчатая диаграмма, если переменная категориальная.\n",
        "\n",
        "2) сделать виджет для выбора переменной. Для выбранной переменной строиться диаграмма \"ящик с усами\".\n",
        "\n",
        "3) сделать виджет для выбора пары переменных, для них строится парный график с раскраской точек по классам."
      ]
    },
    {
      "cell_type": "markdown",
      "metadata": {
        "id": "sjKqFVD29azl"
      },
      "source": [
        "# №1"
      ]
    },
    {
      "cell_type": "code",
      "metadata": {
        "colab": {
          "base_uri": "https://localhost:8080/",
          "height": 304
        },
        "id": "8n6rgpxs9Ro6",
        "outputId": "48d9dafb-1deb-47d0-df28-f4c726d6eb6e"
      },
      "source": [
        "#@title Выбор переменной\n",
        "#@markdown ---\n",
        "Variable = \"Ba\" #@param [\"Id\", \"RI\", \"Na\", \"Mg\", \"Al\", \"Si\", \"K\", \"Ca\", \"Ba\", \"Fe\", \"Class\"]\n",
        "#@markdown ---\n",
        "if  Variable == 'Class':\n",
        "    col = Variable\n",
        "    fig, ax = plt.subplots(figsize=(12,6))\n",
        "    ax.bar(data[col].value_counts().index.values, \n",
        "        data[col].value_counts().values)\n",
        "    ax.set_xlabel(None, fontsize=16)\n",
        "    ax.set_title('Barplot для '+str(col), fontsize=16)\n",
        "    ax.tick_params(axis='x', which='major', labelsize=14, rotation=35)\n",
        "    plt.show()\n",
        "else:\n",
        "    col = Variable\n",
        "    fig, ax = plt.subplots()\n",
        "    ax.hist(data[col], bins=20)\n",
        "    ax.set_xlabel(col, fontsize=16)\n",
        "    ax.set_title(\"Гистограмма для  \" + str(col), fontsize=18)\n",
        "    plt.show()"
      ],
      "execution_count": null,
      "outputs": [
        {
          "output_type": "display_data",
          "data": {
            "image/png": "[encoded data removed]",
            "text/plain": [
              "<Figure size 432x288 with 1 Axes>"
            ]
          },
          "metadata": {
            "tags": [],
            "needs_background": "light"
          }
        }
      ]
    },
    {
      "cell_type": "markdown",
      "metadata": {
        "id": "DD7jAT1b9klN"
      },
      "source": [
        "# №2"
      ]
    },
    {
      "cell_type": "code",
      "metadata": {
        "colab": {
          "base_uri": "https://localhost:8080/",
          "height": 279
        },
        "id": "VFVnLLYW9jYI",
        "outputId": "882ac48f-2216-4e49-d281-54b2a8dfefc9"
      },
      "source": [
        "#@title Выбор переменной\n",
        "#@markdown ---\n",
        "Variable = \"Mg\" #@param [\"Id\", \"RI\", \"Na\", \"Mg\", \"Al\", \"Si\", \"K\", \"Ca\", \"Ba\", \"Fe\"]\n",
        "#@markdown ---\n",
        "sns.boxplot(data=data, x=Variable)\n",
        "plt.show()"
      ],
      "execution_count": null,
      "outputs": [
        {
          "output_type": "display_data",
          "data": {
            "image/png": "[encoded data removed]",
            "text/plain": [
              "<Figure size 432x288 with 1 Axes>"
            ]
          },
          "metadata": {
            "tags": [],
            "needs_background": "light"
          }
        }
      ]
    },
    {
      "cell_type": "markdown",
      "metadata": {
        "id": "fLAsUSXK9qVr"
      },
      "source": [
        "# №3"
      ]
    },
    {
      "cell_type": "code",
      "metadata": {
        "colab": {
          "base_uri": "https://localhost:8080/",
          "height": 279
        },
        "id": "aMxU_42Z9ogS",
        "outputId": "8e374fbd-7cfa-47aa-eb95-e3ff3f19543b"
      },
      "source": [
        "#@title Выбор переменной\n",
        "#@markdown ---\n",
        "Variable1 = \"Si\" #@param [\"Id\", \"RI\", \"Na\", \"Mg\", \"Al\", \"Si\", \"K\", \"Ca\", \"Ba\", \"Fe\"]\n",
        "Variable2 = \"K\" #@param [\"Id\", \"RI\", \"Na\", \"Mg\", \"Al\", \"Si\", \"K\", \"Ca\", \"Ba\", \"Fe\"]\n",
        "#@markdown --- \n",
        " \n",
        "fig, ax = plt.subplots()\n",
        " \n",
        "for glassType in data['Class'].value_counts().index.values:\n",
        "  ax.scatter(data[Variable1][ data['Class']==glassType ],\n",
        "             data[Variable2][ data['Class']==glassType ],\n",
        "             label=glassType)\n",
        " \n",
        "ax.set_xlabel(Variable1)\n",
        "ax.set_ylabel(Variable2)\n",
        "ax.legend()\n",
        " \n",
        "plt.show()"
      ],
      "execution_count": null,
      "outputs": [
        {
          "output_type": "display_data",
          "data": {
            "image/png": "[encoded data removed]",
            "text/plain": [
              "<Figure size 432x288 with 1 Axes>"
            ]
          },
          "metadata": {
            "tags": [],
            "needs_background": "light"
          }
        }
      ]
    },
    {
      "cell_type": "markdown",
      "metadata": {
        "id": "ARq9tpAG9wm4"
      },
      "source": [
        "# Homework"
      ]
    },
    {
      "cell_type": "code",
      "metadata": {
        "id": "1KeAyak29zSe"
      },
      "source": [
        "from sklearn.decomposition import PCA"
      ],
      "execution_count": null,
      "outputs": []
    },
    {
      "cell_type": "code",
      "metadata": {
        "colab": {
          "base_uri": "https://localhost:8080/"
        },
        "id": "nnlw9XDu93a1",
        "outputId": "45e070f5-3060-4b19-ee96-666c5593fcf3"
      },
      "source": [
        "pca = PCA()\n",
        "pca.fit( data_fillna_mean[data_fillna_mean.columns.values[data_fillna_mean.columns.values != 'Class']] )"
      ],
      "execution_count": null,
      "outputs": [
        {
          "output_type": "execute_result",
          "data": {
            "text/plain": [
              "PCA(copy=True, iterated_power='auto', n_components=None, random_state=None,\n",
              "    svd_solver='auto', tol=0.0, whiten=False)"
            ]
          },
          "metadata": {
            "tags": []
          },
          "execution_count": 85
        }
      ]
    },
    {
      "cell_type": "code",
      "metadata": {
        "colab": {
          "base_uri": "https://localhost:8080/"
        },
        "id": "jNDROFUZ95ww",
        "outputId": "3254a663-a63a-4a30-ef8e-48ed8c5bfe0e"
      },
      "source": [
        "print(pca.explained_variance_ratio_*100)"
      ],
      "execution_count": null,
      "outputs": [
        {
          "output_type": "stream",
          "text": [
            "[4.35924973e+01 2.92634662e+01 1.11464141e+01 9.69868833e+00\n",
            " 3.15830703e+00 1.62433642e+00 1.37688901e+00 1.39376524e-01\n",
            " 2.51243314e-05]\n"
          ],
          "name": "stdout"
        }
      ]
    },
    {
      "cell_type": "code",
      "metadata": {
        "colab": {
          "base_uri": "https://localhost:8080/",
          "height": 265
        },
        "id": "qo823E-X97jh",
        "outputId": "2124085d-dff8-4557-d799-2be39db831c5"
      },
      "source": [
        "_, ax = plt.subplots()\n",
        "ax.plot(np.arange(1,10),pca.explained_variance_ratio_*100)\n",
        "plt.show()"
      ],
      "execution_count": null,
      "outputs": [
        {
          "output_type": "display_data",
          "data": {
            "image/png": "[encoded data removed]",
            "text/plain": [
              "<Figure size 432x288 with 1 Axes>"
            ]
          },
          "metadata": {
            "tags": [],
            "needs_background": "light"
          }
        }
      ]
    },
    {
      "cell_type": "code",
      "metadata": {
        "id": "-ckMstGd99-Z"
      },
      "source": [
        "pcaData['Class'] = data_fillna_mean['Class'].copy()"
      ],
      "execution_count": null,
      "outputs": []
    },
    {
      "cell_type": "code",
      "metadata": {
        "colab": {
          "base_uri": "https://localhost:8080/",
          "height": 497
        },
        "id": "2tATI9j79_xr",
        "outputId": "81e7a3fc-bd95-442d-ec57-84498d078a89"
      },
      "source": [
        "col1 = 'pc1'\n",
        "col2 = 'pc2'\n",
        "\n",
        "fig, ax = plt.subplots(figsize=(8,8))\n",
        "\n",
        "for glassType in pcaData['Class'].value_counts().index.values:\n",
        "  ax.scatter(pcaData[col1][ pcaData['Class']==glassType ],\n",
        "             pcaData[col2][ pcaData['Class']==glassType ],\n",
        "             label=glassType)\n",
        "\n",
        "ax.set_xlabel(col1)\n",
        "ax.set_ylabel(col2)\n",
        "ax.legend()\n",
        "\n",
        "plt.show()"
      ],
      "execution_count": null,
      "outputs": [
        {
          "output_type": "display_data",
          "data": {
            "image/png": "[encoded data removed]",
            "text/plain": [
              "<Figure size 576x576 with 1 Axes>"
            ]
          },
          "metadata": {
            "tags": [],
            "needs_background": "light"
          }
        }
      ]
    },
    {
      "cell_type": "code",
      "metadata": {
        "colab": {
          "base_uri": "https://localhost:8080/",
          "height": 466
        },
        "id": "1rbchOCC-CEI",
        "outputId": "2f80f694-424d-441d-e357-73d136ee9603"
      },
      "source": [
        "col1 = 'pc1'\n",
        "col2 = 'pc2'\n",
        "\n",
        "fig = plt.figure(figsize=(8,8))\n",
        "ax = plt.axes(projection='3d')\n",
        "\n",
        "for glassType in pcaData['Class'].value_counts().index.values:\n",
        "  ax.scatter(pcaData['pc1'][ pcaData['Class']==glassType ], \n",
        "             pcaData['pc2'][ pcaData['Class']==glassType ], \n",
        "             pcaData['pc3'][ pcaData['Class']==glassType ],\n",
        "             label=glassType)\n",
        "\n",
        "ax.set_xlabel('pc1', fontsize=16)\n",
        "ax.set_ylabel('pc2', fontsize=16)\n",
        "ax.set_zlabel('pc3', fontsize=16)\n",
        "ax.legend()\n",
        "\n",
        "plt.show()"
      ],
      "execution_count": null,
      "outputs": [
        {
          "output_type": "display_data",
          "data": {
            "image/png": "[encoded data removed]",
            "text/plain": [
              "<Figure size 576x576 with 1 Axes>"
            ]
          },
          "metadata": {
            "tags": [],
            "needs_background": "light"
          }
        }
      ]
    },
    {
      "cell_type": "code",
      "metadata": {
        "colab": {
          "base_uri": "https://localhost:8080/",
          "height": 328
        },
        "id": "cdrU2cxi-E8I",
        "outputId": "799d7870-55a7-4044-da28-328917033dda"
      },
      "source": [
        "corr = data_fillna_mean.corr()\n",
        "corr"
      ],
      "execution_count": null,
      "outputs": [
        {
          "output_type": "execute_result",
          "data": {
            "text/html": [
              "<div>\n",
              "<style scoped>\n",
              "    .dataframe tbody tr th:only-of-type {\n",
              "        vertical-align: middle;\n",
              "    }\n",
              "\n",
              "    .dataframe tbody tr th {\n",
              "        vertical-align: top;\n",
              "    }\n",
              "\n",
              "    .dataframe thead th {\n",
              "        text-align: right;\n",
              "    }\n",
              "</style>\n",
              "<table border=\"1\" class=\"dataframe\">\n",
              "  <thead>\n",
              "    <tr style=\"text-align: right;\">\n",
              "      <th></th>\n",
              "      <th>RI</th>\n",
              "      <th>Na</th>\n",
              "      <th>Mg</th>\n",
              "      <th>Al</th>\n",
              "      <th>Si</th>\n",
              "      <th>K</th>\n",
              "      <th>Ca</th>\n",
              "      <th>Ba</th>\n",
              "      <th>Fe</th>\n",
              "    </tr>\n",
              "  </thead>\n",
              "  <tbody>\n",
              "    <tr>\n",
              "      <th>RI</th>\n",
              "      <td>1.000000</td>\n",
              "      <td>-0.145045</td>\n",
              "      <td>-0.037863</td>\n",
              "      <td>-0.399286</td>\n",
              "      <td>-0.478877</td>\n",
              "      <td>-0.285650</td>\n",
              "      <td>0.809421</td>\n",
              "      <td>-0.003636</td>\n",
              "      <td>0.140727</td>\n",
              "    </tr>\n",
              "    <tr>\n",
              "      <th>Na</th>\n",
              "      <td>-0.145045</td>\n",
              "      <td>1.000000</td>\n",
              "      <td>-0.314101</td>\n",
              "      <td>0.164294</td>\n",
              "      <td>-0.136085</td>\n",
              "      <td>-0.246574</td>\n",
              "      <td>-0.207897</td>\n",
              "      <td>0.338586</td>\n",
              "      <td>-0.208552</td>\n",
              "    </tr>\n",
              "    <tr>\n",
              "      <th>Mg</th>\n",
              "      <td>-0.037863</td>\n",
              "      <td>-0.314101</td>\n",
              "      <td>1.000000</td>\n",
              "      <td>-0.526300</td>\n",
              "      <td>-0.166374</td>\n",
              "      <td>-0.041741</td>\n",
              "      <td>-0.314575</td>\n",
              "      <td>-0.498266</td>\n",
              "      <td>0.067868</td>\n",
              "    </tr>\n",
              "    <tr>\n",
              "      <th>Al</th>\n",
              "      <td>-0.399286</td>\n",
              "      <td>0.164294</td>\n",
              "      <td>-0.526300</td>\n",
              "      <td>1.000000</td>\n",
              "      <td>0.074682</td>\n",
              "      <td>0.340256</td>\n",
              "      <td>-0.236636</td>\n",
              "      <td>0.486398</td>\n",
              "      <td>-0.094451</td>\n",
              "    </tr>\n",
              "    <tr>\n",
              "      <th>Si</th>\n",
              "      <td>-0.478877</td>\n",
              "      <td>-0.136085</td>\n",
              "      <td>-0.166374</td>\n",
              "      <td>0.074682</td>\n",
              "      <td>1.000000</td>\n",
              "      <td>-0.180183</td>\n",
              "      <td>-0.208579</td>\n",
              "      <td>0.006275</td>\n",
              "      <td>-0.095817</td>\n",
              "    </tr>\n",
              "    <tr>\n",
              "      <th>K</th>\n",
              "      <td>-0.285650</td>\n",
              "      <td>-0.246574</td>\n",
              "      <td>-0.041741</td>\n",
              "      <td>0.340256</td>\n",
              "      <td>-0.180183</td>\n",
              "      <td>1.000000</td>\n",
              "      <td>-0.307162</td>\n",
              "      <td>-0.032346</td>\n",
              "      <td>-0.019900</td>\n",
              "    </tr>\n",
              "    <tr>\n",
              "      <th>Ca</th>\n",
              "      <td>0.809421</td>\n",
              "      <td>-0.207897</td>\n",
              "      <td>-0.314575</td>\n",
              "      <td>-0.236636</td>\n",
              "      <td>-0.208579</td>\n",
              "      <td>-0.307162</td>\n",
              "      <td>1.000000</td>\n",
              "      <td>-0.075447</td>\n",
              "      <td>0.138637</td>\n",
              "    </tr>\n",
              "    <tr>\n",
              "      <th>Ba</th>\n",
              "      <td>-0.003636</td>\n",
              "      <td>0.338586</td>\n",
              "      <td>-0.498266</td>\n",
              "      <td>0.486398</td>\n",
              "      <td>0.006275</td>\n",
              "      <td>-0.032346</td>\n",
              "      <td>-0.075447</td>\n",
              "      <td>1.000000</td>\n",
              "      <td>-0.041036</td>\n",
              "    </tr>\n",
              "    <tr>\n",
              "      <th>Fe</th>\n",
              "      <td>0.140727</td>\n",
              "      <td>-0.208552</td>\n",
              "      <td>0.067868</td>\n",
              "      <td>-0.094451</td>\n",
              "      <td>-0.095817</td>\n",
              "      <td>-0.019900</td>\n",
              "      <td>0.138637</td>\n",
              "      <td>-0.041036</td>\n",
              "      <td>1.000000</td>\n",
              "    </tr>\n",
              "  </tbody>\n",
              "</table>\n",
              "</div>"
            ],
            "text/plain": [
              "          RI        Na        Mg  ...        Ca        Ba        Fe\n",
              "RI  1.000000 -0.145045 -0.037863  ...  0.809421 -0.003636  0.140727\n",
              "Na -0.145045  1.000000 -0.314101  ... -0.207897  0.338586 -0.208552\n",
              "Mg -0.037863 -0.314101  1.000000  ... -0.314575 -0.498266  0.067868\n",
              "Al -0.399286  0.164294 -0.526300  ... -0.236636  0.486398 -0.094451\n",
              "Si -0.478877 -0.136085 -0.166374  ... -0.208579  0.006275 -0.095817\n",
              "K  -0.285650 -0.246574 -0.041741  ... -0.307162 -0.032346 -0.019900\n",
              "Ca  0.809421 -0.207897 -0.314575  ...  1.000000 -0.075447  0.138637\n",
              "Ba -0.003636  0.338586 -0.498266  ... -0.075447  1.000000 -0.041036\n",
              "Fe  0.140727 -0.208552  0.067868  ...  0.138637 -0.041036  1.000000\n",
              "\n",
              "[9 rows x 9 columns]"
            ]
          },
          "metadata": {
            "tags": []
          },
          "execution_count": 91
        }
      ]
    },
    {
      "cell_type": "code",
      "metadata": {
        "colab": {
          "base_uri": "https://localhost:8080/",
          "height": 611
        },
        "id": "EYEieCSA-GuK",
        "outputId": "768eac6e-73bb-4abc-bc27-0ec6b2192857"
      },
      "source": [
        "plt.figure(figsize=(12, 10))\n",
        "\n",
        "ax = sns.heatmap(corr, annot=True, vmax=1, vmin=-1, cmap='gist_rainbow')\n",
        "\n",
        "ax.set_title('Корреляции вещественных переменных', fontsize=18)\n",
        "\n",
        "plt.show()"
      ],
      "execution_count": null,
      "outputs": [
        {
          "output_type": "display_data",
          "data": {
            "image/png": "[encoded data removed]",
            "text/plain": [
              "<Figure size 864x720 with 2 Axes>"
            ]
          },
          "metadata": {
            "tags": [],
            "needs_background": "light"
          }
        }
      ]
    },
    {
      "cell_type": "code",
      "metadata": {
        "colab": {
          "base_uri": "https://localhost:8080/",
          "height": 633
        },
        "id": "WBJt6LwM-IKG",
        "outputId": "029a8cea-b9eb-4126-b1f1-63cc51d38fca"
      },
      "source": [
        "plt.figure (figsize=(12,10))\n",
        "ax = sns.heatmap (corr[(corr >= 0.75)|(corr <=-0.75)], annot=True, vmax=1, vmin=-1, cmap='gist_rainbow')\n",
        "ax.set_title('Сильная корреляция', fontsize=25)\n",
        "plt.show"
      ],
      "execution_count": null,
      "outputs": [
        {
          "output_type": "execute_result",
          "data": {
            "text/plain": [
              "<function matplotlib.pyplot.show>"
            ]
          },
          "metadata": {
            "tags": []
          },
          "execution_count": 93
        },
        {
          "output_type": "display_data",
          "data": {
            "image/png": "[encoded data removed]",
            "text/plain": [
              "<Figure size 864x720 with 2 Axes>"
            ]
          },
          "metadata": {
            "tags": [],
            "needs_background": "light"
          }
        }
      ]
    },
    {
      "cell_type": "code",
      "metadata": {
        "colab": {
          "base_uri": "https://localhost:8080/",
          "height": 633
        },
        "id": "DCwM2dIv-Mqh",
        "outputId": "ca9ae4a2-8265-40b8-f5ce-c4984629bfe7"
      },
      "source": [
        "plt.figure (figsize=(12,10))\n",
        "ax = sns.heatmap (corr[(corr<=0.75)&(corr>=0.45)|(corr<=-0.45)&(corr>=-0.75)], annot=True, vmax=1, vmin=-1, cmap='gist_rainbow')\n",
        "ax.set_title('Средняя корреляция', fontsize=25)\n",
        "plt.show"
      ],
      "execution_count": null,
      "outputs": [
        {
          "output_type": "execute_result",
          "data": {
            "text/plain": [
              "<function matplotlib.pyplot.show>"
            ]
          },
          "metadata": {
            "tags": []
          },
          "execution_count": 94
        },
        {
          "output_type": "display_data",
          "data": {
            "image/png": "[encoded data removed]",
            "text/plain": [
              "<Figure size 864x720 with 2 Axes>"
            ]
          },
          "metadata": {
            "tags": [],
            "needs_background": "light"
          }
        }
      ]
    },
    {
      "cell_type": "code",
      "metadata": {
        "id": "IRGRec9O-PHY",
        "colab": {
          "base_uri": "https://localhost:8080/",
          "height": 635
        },
        "outputId": "aa67b343-fc73-4356-d3d3-2b4a8ec0039a"
      },
      "source": [
        "plt.figure (figsize=(12,10))\n",
        "ax = sns.heatmap (corr[(corr<=0.45)&(corr>=0.25)|(corr<=-0.25)&(corr>=-0.45)], annot=True, vmax=1, vmin=-1, cmap='gist_rainbow')\n",
        "ax.set_title('Слабая корреляция', fontsize=25)\n",
        "plt.show"
      ],
      "execution_count": null,
      "outputs": [
        {
          "output_type": "execute_result",
          "data": {
            "text/plain": [
              "<function matplotlib.pyplot.show>"
            ]
          },
          "metadata": {
            "tags": []
          },
          "execution_count": 95
        },
        {
          "output_type": "display_data",
          "data": {
            "image/png": "[encoded data removed]",
            "text/plain": [
              "<Figure size 864x720 with 2 Axes>"
            ]
          },
          "metadata": {
            "tags": [],
            "needs_background": "light"
          }
        }
      ]
    }
  ]
}